{
 "cells": [
  {
   "attachments": {},
   "cell_type": "markdown",
   "metadata": {},
   "source": [
    "# Data Preape "
   ]
  },
  {
   "cell_type": "code",
   "execution_count": 2,
   "metadata": {},
   "outputs": [
    {
     "name": "stderr",
     "output_type": "stream",
     "text": [
      "c:\\Users\\Assaf\\miniconda3\\envs\\NN_project\\lib\\site-packages\\tqdm\\auto.py:21: TqdmWarning: IProgress not found. Please update jupyter and ipywidgets. See https://ipywidgets.readthedocs.io/en/stable/user_install.html\n",
      "  from .autonotebook import tqdm as notebook_tqdm\n"
     ]
    }
   ],
   "source": [
    "from tensorflow.keras.callbacks import EarlyStopping\n",
    "from sklearn.model_selection import train_test_split\n",
    "from alibi.explainers import IntegratedGradients\n",
    "from tensorflow.keras.utils import pad_sequences\n",
    "from tensorflow.keras.models import Model\n",
    "from nltk.tokenize import word_tokenize\n",
    "from tensorflow.keras import layers\n",
    "from nltk.corpus import stopwords\n",
    "from IPython.core.display import HTML\n",
    "import matplotlib.pyplot as plt\n",
    "from numpy.random import seed\n",
    "import matplotlib as mpl\n",
    "import tensorflow as tf\n",
    "import pandas as pd \n",
    "import numpy as np\n",
    "import datetime\n",
    "import random\n",
    "import re\n",
    "import os\n",
    "\n",
    "ORIGINAL_DATA = \"Merged_data.csv\"\n",
    "EMBEDDING_DROPOUT = 0.22934054397801462  \n",
    "LEARNING_RATE =  0.00142\n",
    "MAX_WORD_LENGTH = 23\n",
    "LAYER_DROP = 0.3\n",
    "INIT_SEED = 12\n",
    "NODES = 416\n",
    "EPOCH = 565"
   ]
  },
  {
   "attachments": {},
   "cell_type": "markdown",
   "metadata": {},
   "source": [
    "#### Reading and seed intializing"
   ]
  },
  {
   "cell_type": "code",
   "execution_count": 3,
   "metadata": {},
   "outputs": [],
   "source": [
    "df = pd.read_csv(ORIGINAL_DATA,delimiter=\",\")\n",
    "tf.keras.utils.set_random_seed(INIT_SEED)\n",
    "seed(INIT_SEED)\n",
    "random.seed(INIT_SEED)\n",
    "\n"
   ]
  },
  {
   "cell_type": "code",
   "execution_count": 4,
   "metadata": {},
   "outputs": [],
   "source": [
    "def num_stripper(txt):\n",
    "    return re.sub(r'[^a-zA-Z]', ' ', txt)"
   ]
  },
  {
   "attachments": {},
   "cell_type": "markdown",
   "metadata": {},
   "source": [
    "## Embedding layrer prep "
   ]
  },
  {
   "attachments": {},
   "cell_type": "markdown",
   "metadata": {},
   "source": [
    "### Feature extraction\n"
   ]
  },
  {
   "cell_type": "code",
   "execution_count": 5,
   "metadata": {},
   "outputs": [],
   "source": [
    "def pre_processing (clmn): \n",
    "    # Tokenizing and stop word removal from column\n",
    "    procc_str = clmn.apply(lambda txt: [item for item in word_tokenize(num_stripper(txt)) if item.lower() not in stopwords.words('english')])\n",
    "    # returning the embedding size of column\n",
    "    embd_size = np.unique([wrd for bag_wrd in procc_str for wrd in bag_wrd ] )\n",
    "    # Creating inverse dictionary for each unique word\n",
    "    inv_dict  = dict(zip( embd_size,range(1,embd_size.size+1) ))\n",
    "    # Return Processed strings and inverse dictionary \n",
    "    return [procc_str, inv_dict]\n",
    "\n",
    "def onehot_padding(data,invs_dict):\n",
    "    new_df , res  = [],[]\n",
    "    # Loop over columns in dataframe\n",
    "    for clmn in data:\n",
    "        if clmn != 'Url' :\n",
    "            # One hot encoding each row in column\n",
    "            res= [[invs_dict[clmn][word] for word in strn] for strn in data[clmn] ]\n",
    "        else:\n",
    "            # One hot encoding each row in URL separately due to char removal\n",
    "            res = [[invs_dict[clmn][key]] for key in data[clmn]]\n",
    "        new_df.append(res) \n",
    "    # Padding sequence to max word length\n",
    "    new_df = [pad_sequences(clmn,maxlen= MAX_WORD_LENGTH , padding='post')for clmn in new_df]\n",
    "    return new_df\n"
   ]
  },
  {
   "attachments": {},
   "cell_type": "markdown",
   "metadata": {},
   "source": [
    "#### Removing stop words and counting embeding dimension"
   ]
  },
  {
   "cell_type": "code",
   "execution_count": 6,
   "metadata": {},
   "outputs": [],
   "source": [
    "# Loop over each column in df applying preprocessing  to it \n",
    "def df_conversion (df):\n",
    "    w_dict = {}\n",
    "    for clmn in df.iloc[:,:-1]:\n",
    "        x = []\n",
    "        if clmn not in ['Url' ,'Location' ]:\n",
    "            df[clmn],w_dict[clmn] = pre_processing (df[clmn])\n",
    "        elif clmn == 'Location':\n",
    "            locl_list = [re.split(r',(?=.)', item)  for item in df[clmn]]\n",
    "            df[clmn] = locl_list\n",
    "            unique_items = list(set(cnty for county_lst in locl_list for cnty in county_lst))\n",
    "            w_dict[clmn] = dict(zip(unique_items, range(1,len(unique_items)+1)))\n",
    "        else:\n",
    "            url_uniq = df[clmn].unique()\n",
    "            w_dict[clmn] = dict(zip(url_uniq, range(1,len(url_uniq)+1)))\n",
    "    return df , w_dict\n"
   ]
  },
  {
   "cell_type": "code",
   "execution_count": 7,
   "metadata": {},
   "outputs": [],
   "source": [
    "df ,wrd_dict =  df_conversion(df)"
   ]
  },
  {
   "attachments": {},
   "cell_type": "markdown",
   "metadata": {},
   "source": [
    "## Model making"
   ]
  },
  {
   "cell_type": "code",
   "execution_count": 8,
   "metadata": {},
   "outputs": [],
   "source": [
    "def create_model(data,embedding,dense_n):    \n",
    "    inputs = []\n",
    "    outputs = []\n",
    "    # Loop over dataframe to create embedding layer for each feature\n",
    "    for lst,sze in zip(data , embedding) :\n",
    "        inp = layers.Input(shape= lst.shape[-1] , name = sze + '_Input')\n",
    "        embed_dim = int(min(np.ceil(embedding[sze] /2), 45))\n",
    "        # Defining number of unique values for the embedding layer and the embedding size\n",
    "        out = layers.Embedding(embedding[sze] + 1, embed_dim, name = sze + '_Embedding' )(inp)\n",
    "        out = layers.Dropout(EMBEDDING_DROPOUT, name = sze + '_Dropout')(out)\n",
    "        inputs.append(inp)\n",
    "        outputs.append(out)\n",
    "    # Combining the layers\n",
    "    lyer = layers.Concatenate(name ='Concat_Layer')(outputs)\n",
    "    lyer = layers.BatchNormalization(name ='BatchnNrmalization_Layer1')(lyer)\n",
    "    lyer = layers.Flatten(name ='Flatten_Layer')(lyer)\n",
    "    lyer = layers.Dense(dense_n, activation=\"relu\",name ='Dense_layer')(lyer)\n",
    "    lyer = layers.Dropout(LAYER_DROP,name ='Dropout_Layer')(lyer)\n",
    "    lyer = layers.BatchNormalization(name ='BatchnNrmalization_Layer2')(lyer)\n",
    "    \n",
    "    res = layers.Dense(1, activation=\"linear\",name ='Output_Layer')(lyer)\n",
    "\n",
    "    model = Model(inputs=inputs, outputs=res)\n",
    "    return model"
   ]
  },
  {
   "attachments": {},
   "cell_type": "markdown",
   "metadata": {},
   "source": [
    "## Test train split"
   ]
  },
  {
   "cell_type": "code",
   "execution_count": 9,
   "metadata": {},
   "outputs": [],
   "source": [
    "def data_splitting(df):\n",
    "    X = df.iloc[: ,:-1]\n",
    "    # Target\n",
    "    y = df['CTR']\n",
    "    # # Train test split\n",
    "    X_train, X_test, y_train, y_test = train_test_split(X, y, test_size = 0.15 ,random_state=42)\n",
    "    X_train, X_val, y_train, y_val = train_test_split(X_train, y_train, test_size =  0.25 ,random_state=42)\n",
    "    # Check the number of records in training and testing dataset.\n",
    "    print(f'The training dataset shape {len(X_train)} and validation shape {len(X_val)} .')\n",
    "    print(f'The testing dataset has {len(X_test)} records.')\n",
    "    return X_train, X_test ,X_val, y_train, y_val ,y_train, y_test\n"
   ]
  },
  {
   "cell_type": "code",
   "execution_count": 10,
   "metadata": {},
   "outputs": [
    {
     "name": "stdout",
     "output_type": "stream",
     "text": [
      "The training dataset shape 25 and validation shape 9 .\n",
      "The testing dataset has 6 records.\n"
     ]
    }
   ],
   "source": [
    "X_train, X_test,X_val,y_train, y_val ,y_train, y_test = data_splitting(df)"
   ]
  },
  {
   "attachments": {},
   "cell_type": "markdown",
   "metadata": {},
   "source": [
    "#### One hot encoding and padding"
   ]
  },
  {
   "cell_type": "code",
   "execution_count": 11,
   "metadata": {},
   "outputs": [],
   "source": [
    "# Padding the sets used for the training \n",
    "X_train = onehot_padding(X_train,wrd_dict)\n",
    "X_val = onehot_padding(X_val,wrd_dict)"
   ]
  },
  {
   "cell_type": "code",
   "execution_count": 12,
   "metadata": {},
   "outputs": [
    {
     "name": "stdout",
     "output_type": "stream",
     "text": [
      "The data shape (13, 25, 23)\n"
     ]
    }
   ],
   "source": [
    "print(f'The data shape {np.array(X_train).shape}')"
   ]
  },
  {
   "cell_type": "code",
   "execution_count": 13,
   "metadata": {},
   "outputs": [
    {
     "name": "stdout",
     "output_type": "stream",
     "text": [
      "('Description', 88)\n",
      "('Headline', 19)\n",
      "('Headline.1', 21)\n",
      "('Location', 15)\n",
      "('Sitelink', 55)\n",
      "('Url', 5)\n",
      "('Callout', 16)\n",
      "('Callout.1', 17)\n",
      "('Keyword', 18)\n",
      "('Keyword.1', 16)\n",
      "('Keyword.2', 16)\n",
      "('Keyword.3', 16)\n",
      "('Keyword.4', 19)\n"
     ]
    }
   ],
   "source": [
    "# Printing the unique word for each feature\n",
    "embedding_sizes = {x : len(wrd_dict[x]) for x in wrd_dict}\n",
    "for x in embedding_sizes.items():\n",
    "    print(x)"
   ]
  },
  {
   "cell_type": "code",
   "execution_count": 14,
   "metadata": {},
   "outputs": [],
   "source": [
    "nn = create_model(X_train,embedding_sizes , NODES)   \n",
    "nn.compile(loss='mse', optimizer=tf.keras.optimizers.Adam(learning_rate=LEARNING_RATE), metrics=['mae'])"
   ]
  },
  {
   "cell_type": "code",
   "execution_count": 15,
   "metadata": {},
   "outputs": [
    {
     "name": "stdout",
     "output_type": "stream",
     "text": [
      "Model: \"model\"\n",
      "__________________________________________________________________________________________________\n",
      " Layer (type)                   Output Shape         Param #     Connected to                     \n",
      "==================================================================================================\n",
      " Description_Input (InputLayer)  [(None, 23)]        0           []                               \n",
      "                                                                                                  \n",
      " Headline_Input (InputLayer)    [(None, 23)]         0           []                               \n",
      "                                                                                                  \n",
      " Headline.1_Input (InputLayer)  [(None, 23)]         0           []                               \n",
      "                                                                                                  \n",
      " Location_Input (InputLayer)    [(None, 23)]         0           []                               \n",
      "                                                                                                  \n",
      " Sitelink_Input (InputLayer)    [(None, 23)]         0           []                               \n",
      "                                                                                                  \n",
      " Url_Input (InputLayer)         [(None, 23)]         0           []                               \n",
      "                                                                                                  \n",
      " Callout_Input (InputLayer)     [(None, 23)]         0           []                               \n",
      "                                                                                                  \n",
      " Callout.1_Input (InputLayer)   [(None, 23)]         0           []                               \n",
      "                                                                                                  \n",
      " Keyword_Input (InputLayer)     [(None, 23)]         0           []                               \n",
      "                                                                                                  \n",
      " Keyword.1_Input (InputLayer)   [(None, 23)]         0           []                               \n",
      "                                                                                                  \n",
      " Keyword.2_Input (InputLayer)   [(None, 23)]         0           []                               \n",
      "                                                                                                  \n",
      " Keyword.3_Input (InputLayer)   [(None, 23)]         0           []                               \n",
      "                                                                                                  \n",
      " Keyword.4_Input (InputLayer)   [(None, 23)]         0           []                               \n",
      "                                                                                                  \n",
      " Description_Embedding (Embeddi  (None, 23, 44)      3916        ['Description_Input[0][0]']      \n",
      " ng)                                                                                              \n",
      "                                                                                                  \n",
      " Headline_Embedding (Embedding)  (None, 23, 10)      200         ['Headline_Input[0][0]']         \n",
      "                                                                                                  \n",
      " Headline.1_Embedding (Embeddin  (None, 23, 11)      242         ['Headline.1_Input[0][0]']       \n",
      " g)                                                                                               \n",
      "                                                                                                  \n",
      " Location_Embedding (Embedding)  (None, 23, 8)       128         ['Location_Input[0][0]']         \n",
      "                                                                                                  \n",
      " Sitelink_Embedding (Embedding)  (None, 23, 28)      1568        ['Sitelink_Input[0][0]']         \n",
      "                                                                                                  \n",
      " Url_Embedding (Embedding)      (None, 23, 3)        18          ['Url_Input[0][0]']              \n",
      "                                                                                                  \n",
      " Callout_Embedding (Embedding)  (None, 23, 8)        136         ['Callout_Input[0][0]']          \n",
      "                                                                                                  \n",
      " Callout.1_Embedding (Embedding  (None, 23, 9)       162         ['Callout.1_Input[0][0]']        \n",
      " )                                                                                                \n",
      "                                                                                                  \n",
      " Keyword_Embedding (Embedding)  (None, 23, 9)        171         ['Keyword_Input[0][0]']          \n",
      "                                                                                                  \n",
      " Keyword.1_Embedding (Embedding  (None, 23, 8)       136         ['Keyword.1_Input[0][0]']        \n",
      " )                                                                                                \n",
      "                                                                                                  \n",
      " Keyword.2_Embedding (Embedding  (None, 23, 8)       136         ['Keyword.2_Input[0][0]']        \n",
      " )                                                                                                \n",
      "                                                                                                  \n",
      " Keyword.3_Embedding (Embedding  (None, 23, 8)       136         ['Keyword.3_Input[0][0]']        \n",
      " )                                                                                                \n",
      "                                                                                                  \n",
      " Keyword.4_Embedding (Embedding  (None, 23, 10)      200         ['Keyword.4_Input[0][0]']        \n",
      " )                                                                                                \n",
      "                                                                                                  \n",
      " Description_Dropout (Dropout)  (None, 23, 44)       0           ['Description_Embedding[0][0]']  \n",
      "                                                                                                  \n",
      " Headline_Dropout (Dropout)     (None, 23, 10)       0           ['Headline_Embedding[0][0]']     \n",
      "                                                                                                  \n",
      " Headline.1_Dropout (Dropout)   (None, 23, 11)       0           ['Headline.1_Embedding[0][0]']   \n",
      "                                                                                                  \n",
      " Location_Dropout (Dropout)     (None, 23, 8)        0           ['Location_Embedding[0][0]']     \n",
      "                                                                                                  \n",
      " Sitelink_Dropout (Dropout)     (None, 23, 28)       0           ['Sitelink_Embedding[0][0]']     \n",
      "                                                                                                  \n",
      " Url_Dropout (Dropout)          (None, 23, 3)        0           ['Url_Embedding[0][0]']          \n",
      "                                                                                                  \n",
      " Callout_Dropout (Dropout)      (None, 23, 8)        0           ['Callout_Embedding[0][0]']      \n",
      "                                                                                                  \n",
      " Callout.1_Dropout (Dropout)    (None, 23, 9)        0           ['Callout.1_Embedding[0][0]']    \n",
      "                                                                                                  \n",
      " Keyword_Dropout (Dropout)      (None, 23, 9)        0           ['Keyword_Embedding[0][0]']      \n",
      "                                                                                                  \n",
      " Keyword.1_Dropout (Dropout)    (None, 23, 8)        0           ['Keyword.1_Embedding[0][0]']    \n",
      "                                                                                                  \n",
      " Keyword.2_Dropout (Dropout)    (None, 23, 8)        0           ['Keyword.2_Embedding[0][0]']    \n",
      "                                                                                                  \n",
      " Keyword.3_Dropout (Dropout)    (None, 23, 8)        0           ['Keyword.3_Embedding[0][0]']    \n",
      "                                                                                                  \n",
      " Keyword.4_Dropout (Dropout)    (None, 23, 10)       0           ['Keyword.4_Embedding[0][0]']    \n",
      "                                                                                                  \n",
      " Concat_Layer (Concatenate)     (None, 23, 164)      0           ['Description_Dropout[0][0]',    \n",
      "                                                                  'Headline_Dropout[0][0]',       \n",
      "                                                                  'Headline.1_Dropout[0][0]',     \n",
      "                                                                  'Location_Dropout[0][0]',       \n",
      "                                                                  'Sitelink_Dropout[0][0]',       \n",
      "                                                                  'Url_Dropout[0][0]',            \n",
      "                                                                  'Callout_Dropout[0][0]',        \n",
      "                                                                  'Callout.1_Dropout[0][0]',      \n",
      "                                                                  'Keyword_Dropout[0][0]',        \n",
      "                                                                  'Keyword.1_Dropout[0][0]',      \n",
      "                                                                  'Keyword.2_Dropout[0][0]',      \n",
      "                                                                  'Keyword.3_Dropout[0][0]',      \n",
      "                                                                  'Keyword.4_Dropout[0][0]']      \n",
      "                                                                                                  \n",
      " BatchnNrmalization_Layer1 (Bat  (None, 23, 164)     656         ['Concat_Layer[0][0]']           \n",
      " chNormalization)                                                                                 \n",
      "                                                                                                  \n",
      " Flatten_Layer (Flatten)        (None, 3772)         0           ['BatchnNrmalization_Layer1[0][0]\n",
      "                                                                 ']                               \n",
      "                                                                                                  \n",
      " Dense_layer (Dense)            (None, 416)          1569568     ['Flatten_Layer[0][0]']          \n",
      "                                                                                                  \n",
      " Dropout_Layer (Dropout)        (None, 416)          0           ['Dense_layer[0][0]']            \n",
      "                                                                                                  \n",
      " BatchnNrmalization_Layer2 (Bat  (None, 416)         1664        ['Dropout_Layer[0][0]']          \n",
      " chNormalization)                                                                                 \n",
      "                                                                                                  \n",
      " Output_Layer (Dense)           (None, 1)            417         ['BatchnNrmalization_Layer2[0][0]\n",
      "                                                                 ']                               \n",
      "                                                                                                  \n",
      "==================================================================================================\n",
      "Total params: 1,579,454\n",
      "Trainable params: 1,578,294\n",
      "Non-trainable params: 1,160\n",
      "__________________________________________________________________________________________________\n"
     ]
    }
   ],
   "source": [
    "nn.summary()"
   ]
  },
  {
   "cell_type": "code",
   "execution_count": 16,
   "metadata": {},
   "outputs": [],
   "source": [
    "def train(X_tr,y_tr ,X_v, y_v,verb,batch_s):\n",
    "    history =  nn.fit(X_tr,\n",
    "                    y_tr, \n",
    "                    validation_data=(X_v, y_v), \n",
    "                    epochs=EPOCH, \n",
    "                    verbose= verb,\n",
    "                    batch_size = batch_s,)\n",
    "    return history"
   ]
  },
  {
   "cell_type": "code",
   "execution_count": 17,
   "metadata": {},
   "outputs": [
    {
     "name": "stdout",
     "output_type": "stream",
     "text": [
      "Epoch 1/565\n",
      "1/1 [==============================] - 10s 10s/step - loss: 10.0671 - mae: 2.4048 - val_loss: 12.9847 - val_mae: 3.4008\n",
      "Epoch 2/565\n",
      "1/1 [==============================] - 0s 324ms/step - loss: 12.6117 - mae: 2.4860 - val_loss: 13.1109 - val_mae: 3.4202\n",
      "Epoch 3/565\n",
      "1/1 [==============================] - 0s 199ms/step - loss: 10.7498 - mae: 2.9160 - val_loss: 12.8383 - val_mae: 3.3789\n",
      "Epoch 4/565\n",
      "1/1 [==============================] - 0s 195ms/step - loss: 9.2600 - mae: 2.5054 - val_loss: 12.4465 - val_mae: 3.3190\n",
      "Epoch 5/565\n",
      "1/1 [==============================] - 0s 190ms/step - loss: 7.7194 - mae: 2.3831 - val_loss: 12.0769 - val_mae: 3.2616\n",
      "Epoch 6/565\n",
      "1/1 [==============================] - 0s 203ms/step - loss: 7.5109 - mae: 2.2971 - val_loss: 11.7083 - val_mae: 3.2061\n",
      "Epoch 7/565\n",
      "1/1 [==============================] - 0s 190ms/step - loss: 7.2444 - mae: 2.1554 - val_loss: 11.3811 - val_mae: 3.1593\n",
      "Epoch 8/565\n",
      "1/1 [==============================] - 0s 182ms/step - loss: 6.4767 - mae: 2.1778 - val_loss: 11.1286 - val_mae: 3.1228\n",
      "Epoch 9/565\n",
      "1/1 [==============================] - 0s 178ms/step - loss: 5.6905 - mae: 2.0424 - val_loss: 10.8770 - val_mae: 3.0861\n",
      "Epoch 10/565\n",
      "1/1 [==============================] - 0s 199ms/step - loss: 7.4235 - mae: 2.2724 - val_loss: 10.6905 - val_mae: 3.0575\n",
      "Epoch 11/565\n",
      "1/1 [==============================] - 0s 197ms/step - loss: 7.4795 - mae: 2.3112 - val_loss: 10.4919 - val_mae: 3.0260\n",
      "Epoch 12/565\n",
      "1/1 [==============================] - 0s 199ms/step - loss: 5.2398 - mae: 1.9793 - val_loss: 10.3409 - val_mae: 3.0020\n",
      "Epoch 13/565\n",
      "1/1 [==============================] - 0s 207ms/step - loss: 4.8872 - mae: 1.9923 - val_loss: 10.1360 - val_mae: 2.9679\n",
      "Epoch 14/565\n",
      "1/1 [==============================] - 0s 179ms/step - loss: 7.0083 - mae: 2.3560 - val_loss: 9.9616 - val_mae: 2.9367\n",
      "Epoch 15/565\n",
      "1/1 [==============================] - 0s 193ms/step - loss: 4.6994 - mae: 1.9388 - val_loss: 9.7487 - val_mae: 2.8977\n",
      "Epoch 16/565\n",
      "1/1 [==============================] - 0s 131ms/step - loss: 7.1881 - mae: 2.0819 - val_loss: 9.5269 - val_mae: 2.8580\n",
      "Epoch 17/565\n",
      "1/1 [==============================] - 0s 196ms/step - loss: 5.9548 - mae: 1.9904 - val_loss: 9.3009 - val_mae: 2.8167\n",
      "Epoch 18/565\n",
      "1/1 [==============================] - 0s 203ms/step - loss: 4.4384 - mae: 1.8004 - val_loss: 9.0680 - val_mae: 2.7753\n",
      "Epoch 19/565\n",
      "1/1 [==============================] - 0s 199ms/step - loss: 5.4271 - mae: 1.9166 - val_loss: 8.8440 - val_mae: 2.7361\n",
      "Epoch 20/565\n",
      "1/1 [==============================] - 0s 178ms/step - loss: 5.9052 - mae: 1.9238 - val_loss: 8.6574 - val_mae: 2.7029\n",
      "Epoch 21/565\n",
      "1/1 [==============================] - 0s 202ms/step - loss: 3.9572 - mae: 1.6865 - val_loss: 8.4770 - val_mae: 2.6687\n",
      "Epoch 22/565\n",
      "1/1 [==============================] - 0s 173ms/step - loss: 4.9967 - mae: 1.8706 - val_loss: 8.3019 - val_mae: 2.6352\n",
      "Epoch 23/565\n",
      "1/1 [==============================] - 0s 195ms/step - loss: 4.7183 - mae: 1.7213 - val_loss: 8.0476 - val_mae: 2.5868\n",
      "Epoch 24/565\n",
      "1/1 [==============================] - 0s 197ms/step - loss: 4.2950 - mae: 1.7462 - val_loss: 7.8229 - val_mae: 2.5440\n",
      "Epoch 25/565\n",
      "1/1 [==============================] - 0s 201ms/step - loss: 4.5009 - mae: 1.7707 - val_loss: 7.6084 - val_mae: 2.5014\n",
      "Epoch 26/565\n",
      "1/1 [==============================] - 0s 211ms/step - loss: 4.2458 - mae: 1.7505 - val_loss: 7.4227 - val_mae: 2.4642\n",
      "Epoch 27/565\n",
      "1/1 [==============================] - 0s 168ms/step - loss: 3.9402 - mae: 1.6162 - val_loss: 7.2495 - val_mae: 2.4288\n",
      "Epoch 28/565\n",
      "1/1 [==============================] - 0s 179ms/step - loss: 3.9815 - mae: 1.5767 - val_loss: 7.0610 - val_mae: 2.3907\n",
      "Epoch 29/565\n",
      "1/1 [==============================] - 0s 170ms/step - loss: 3.0800 - mae: 1.4521 - val_loss: 6.8775 - val_mae: 2.3528\n",
      "Epoch 30/565\n",
      "1/1 [==============================] - 0s 180ms/step - loss: 3.9873 - mae: 1.5679 - val_loss: 6.6813 - val_mae: 2.3126\n",
      "Epoch 31/565\n",
      "1/1 [==============================] - 0s 159ms/step - loss: 3.3913 - mae: 1.5557 - val_loss: 6.5007 - val_mae: 2.2738\n",
      "Epoch 32/565\n",
      "1/1 [==============================] - 0s 146ms/step - loss: 4.6574 - mae: 1.7501 - val_loss: 6.3791 - val_mae: 2.2472\n",
      "Epoch 33/565\n",
      "1/1 [==============================] - 0s 142ms/step - loss: 2.7547 - mae: 1.3832 - val_loss: 6.2326 - val_mae: 2.2158\n",
      "Epoch 34/565\n",
      "1/1 [==============================] - 0s 157ms/step - loss: 2.2986 - mae: 1.2765 - val_loss: 6.0996 - val_mae: 2.1857\n",
      "Epoch 35/565\n",
      "1/1 [==============================] - 0s 174ms/step - loss: 3.6834 - mae: 1.6133 - val_loss: 5.9511 - val_mae: 2.1515\n",
      "Epoch 36/565\n",
      "1/1 [==============================] - 0s 163ms/step - loss: 2.7819 - mae: 1.3707 - val_loss: 5.7858 - val_mae: 2.1129\n",
      "Epoch 37/565\n",
      "1/1 [==============================] - 0s 132ms/step - loss: 3.1096 - mae: 1.2714 - val_loss: 5.6550 - val_mae: 2.0806\n",
      "Epoch 38/565\n",
      "1/1 [==============================] - 0s 179ms/step - loss: 3.1672 - mae: 1.3277 - val_loss: 5.5408 - val_mae: 2.0513\n",
      "Epoch 39/565\n",
      "1/1 [==============================] - 0s 161ms/step - loss: 2.5808 - mae: 1.2689 - val_loss: 5.4327 - val_mae: 2.0243\n",
      "Epoch 40/565\n",
      "1/1 [==============================] - 0s 173ms/step - loss: 3.5828 - mae: 1.4670 - val_loss: 5.3148 - val_mae: 1.9980\n",
      "Epoch 41/565\n",
      "1/1 [==============================] - 0s 171ms/step - loss: 2.6269 - mae: 1.2536 - val_loss: 5.1807 - val_mae: 1.9715\n",
      "Epoch 42/565\n",
      "1/1 [==============================] - 0s 173ms/step - loss: 2.3619 - mae: 1.3403 - val_loss: 5.0692 - val_mae: 1.9491\n",
      "Epoch 43/565\n",
      "1/1 [==============================] - 0s 175ms/step - loss: 2.8625 - mae: 1.3919 - val_loss: 4.9560 - val_mae: 1.9264\n",
      "Epoch 44/565\n",
      "1/1 [==============================] - 0s 181ms/step - loss: 3.0641 - mae: 1.5209 - val_loss: 4.8489 - val_mae: 1.9041\n",
      "Epoch 45/565\n",
      "1/1 [==============================] - 0s 166ms/step - loss: 2.7267 - mae: 1.3603 - val_loss: 4.7318 - val_mae: 1.8799\n",
      "Epoch 46/565\n",
      "1/1 [==============================] - 0s 195ms/step - loss: 2.3969 - mae: 1.2561 - val_loss: 4.6370 - val_mae: 1.8603\n",
      "Epoch 47/565\n",
      "1/1 [==============================] - 0s 177ms/step - loss: 2.5759 - mae: 1.3061 - val_loss: 4.5347 - val_mae: 1.8386\n",
      "Epoch 48/565\n",
      "1/1 [==============================] - 0s 174ms/step - loss: 2.0876 - mae: 1.1006 - val_loss: 4.4594 - val_mae: 1.8224\n",
      "Epoch 49/565\n",
      "1/1 [==============================] - 0s 182ms/step - loss: 2.3437 - mae: 1.3666 - val_loss: 4.3516 - val_mae: 1.7992\n",
      "Epoch 50/565\n",
      "1/1 [==============================] - 0s 190ms/step - loss: 3.1413 - mae: 1.2794 - val_loss: 4.2381 - val_mae: 1.7744\n",
      "Epoch 51/565\n",
      "1/1 [==============================] - 0s 156ms/step - loss: 3.3914 - mae: 1.5221 - val_loss: 4.1314 - val_mae: 1.7504\n",
      "Epoch 52/565\n",
      "1/1 [==============================] - 0s 175ms/step - loss: 2.7401 - mae: 1.2350 - val_loss: 4.0317 - val_mae: 1.7280\n",
      "Epoch 53/565\n",
      "1/1 [==============================] - 0s 194ms/step - loss: 1.9285 - mae: 1.0116 - val_loss: 3.9230 - val_mae: 1.7043\n",
      "Epoch 54/565\n",
      "1/1 [==============================] - 0s 188ms/step - loss: 1.7743 - mae: 1.0304 - val_loss: 3.8500 - val_mae: 1.6904\n",
      "Epoch 55/565\n",
      "1/1 [==============================] - 0s 196ms/step - loss: 3.0734 - mae: 1.2751 - val_loss: 3.7905 - val_mae: 1.6792\n",
      "Epoch 56/565\n",
      "1/1 [==============================] - 0s 181ms/step - loss: 1.7585 - mae: 1.1347 - val_loss: 3.7326 - val_mae: 1.6686\n",
      "Epoch 57/565\n",
      "1/1 [==============================] - 0s 189ms/step - loss: 1.3069 - mae: 0.8599 - val_loss: 3.6765 - val_mae: 1.6584\n",
      "Epoch 58/565\n",
      "1/1 [==============================] - 0s 194ms/step - loss: 2.3185 - mae: 1.2462 - val_loss: 3.6216 - val_mae: 1.6493\n",
      "Epoch 59/565\n",
      "1/1 [==============================] - 0s 166ms/step - loss: 1.4424 - mae: 0.9966 - val_loss: 3.5751 - val_mae: 1.6416\n",
      "Epoch 60/565\n",
      "1/1 [==============================] - 0s 191ms/step - loss: 1.5675 - mae: 1.0157 - val_loss: 3.5272 - val_mae: 1.6333\n",
      "Epoch 61/565\n",
      "1/1 [==============================] - 0s 194ms/step - loss: 2.1273 - mae: 1.0878 - val_loss: 3.4991 - val_mae: 1.6284\n",
      "Epoch 62/565\n",
      "1/1 [==============================] - 0s 191ms/step - loss: 1.1854 - mae: 0.8643 - val_loss: 3.4464 - val_mae: 1.6188\n",
      "Epoch 63/565\n",
      "1/1 [==============================] - 0s 192ms/step - loss: 2.2846 - mae: 1.2543 - val_loss: 3.3749 - val_mae: 1.6054\n",
      "Epoch 64/565\n",
      "1/1 [==============================] - 0s 161ms/step - loss: 1.1073 - mae: 0.7135 - val_loss: 3.3171 - val_mae: 1.5941\n",
      "Epoch 65/565\n",
      "1/1 [==============================] - 0s 163ms/step - loss: 1.3735 - mae: 0.9120 - val_loss: 3.2385 - val_mae: 1.5780\n",
      "Epoch 66/565\n",
      "1/1 [==============================] - 0s 183ms/step - loss: 1.7834 - mae: 1.0276 - val_loss: 3.1498 - val_mae: 1.5604\n",
      "Epoch 67/565\n",
      "1/1 [==============================] - 0s 162ms/step - loss: 2.2893 - mae: 1.0372 - val_loss: 3.0771 - val_mae: 1.5458\n",
      "Epoch 68/565\n",
      "1/1 [==============================] - 0s 184ms/step - loss: 2.2819 - mae: 1.2586 - val_loss: 3.0233 - val_mae: 1.5355\n",
      "Epoch 69/565\n",
      "1/1 [==============================] - 0s 179ms/step - loss: 1.2494 - mae: 0.9395 - val_loss: 2.9828 - val_mae: 1.5284\n",
      "Epoch 70/565\n",
      "1/1 [==============================] - 0s 159ms/step - loss: 2.0404 - mae: 1.0512 - val_loss: 2.9487 - val_mae: 1.5226\n",
      "Epoch 71/565\n",
      "1/1 [==============================] - 0s 179ms/step - loss: 2.4973 - mae: 1.2838 - val_loss: 2.9248 - val_mae: 1.5185\n",
      "Epoch 72/565\n",
      "1/1 [==============================] - 0s 170ms/step - loss: 2.2167 - mae: 0.9669 - val_loss: 2.9113 - val_mae: 1.5168\n",
      "Epoch 73/565\n",
      "1/1 [==============================] - 0s 197ms/step - loss: 1.9037 - mae: 1.0105 - val_loss: 2.9032 - val_mae: 1.5163\n",
      "Epoch 74/565\n",
      "1/1 [==============================] - 0s 174ms/step - loss: 2.0272 - mae: 1.2004 - val_loss: 2.9053 - val_mae: 1.5175\n",
      "Epoch 75/565\n",
      "1/1 [==============================] - 0s 197ms/step - loss: 1.5431 - mae: 1.0200 - val_loss: 2.9056 - val_mae: 1.5179\n",
      "Epoch 76/565\n",
      "1/1 [==============================] - 0s 196ms/step - loss: 1.6717 - mae: 0.9825 - val_loss: 2.9078 - val_mae: 1.5181\n",
      "Epoch 77/565\n",
      "1/1 [==============================] - 0s 169ms/step - loss: 1.4646 - mae: 1.0055 - val_loss: 2.9071 - val_mae: 1.5179\n",
      "Epoch 78/565\n",
      "1/1 [==============================] - 0s 194ms/step - loss: 2.2016 - mae: 1.0941 - val_loss: 2.9100 - val_mae: 1.5186\n",
      "Epoch 79/565\n",
      "1/1 [==============================] - 0s 199ms/step - loss: 0.8411 - mae: 0.7388 - val_loss: 2.9183 - val_mae: 1.5200\n",
      "Epoch 80/565\n",
      "1/1 [==============================] - 0s 202ms/step - loss: 2.2748 - mae: 1.0762 - val_loss: 2.9178 - val_mae: 1.5195\n",
      "Epoch 81/565\n",
      "1/1 [==============================] - 0s 162ms/step - loss: 1.6085 - mae: 0.9046 - val_loss: 2.9082 - val_mae: 1.5166\n",
      "Epoch 82/565\n",
      "1/1 [==============================] - 0s 143ms/step - loss: 1.4261 - mae: 0.9003 - val_loss: 2.9013 - val_mae: 1.5143\n",
      "Epoch 83/565\n",
      "1/1 [==============================] - 0s 182ms/step - loss: 1.4505 - mae: 1.0414 - val_loss: 2.8902 - val_mae: 1.5113\n",
      "Epoch 84/565\n",
      "1/1 [==============================] - 0s 177ms/step - loss: 1.3373 - mae: 0.9471 - val_loss: 2.8624 - val_mae: 1.5051\n",
      "Epoch 85/565\n",
      "1/1 [==============================] - 0s 171ms/step - loss: 1.4042 - mae: 0.7539 - val_loss: 2.8441 - val_mae: 1.5008\n",
      "Epoch 86/565\n",
      "1/1 [==============================] - 0s 183ms/step - loss: 1.7950 - mae: 0.9625 - val_loss: 2.8051 - val_mae: 1.4917\n",
      "Epoch 87/565\n",
      "1/1 [==============================] - 0s 128ms/step - loss: 2.1520 - mae: 1.1740 - val_loss: 2.7757 - val_mae: 1.4846\n",
      "Epoch 88/565\n",
      "1/1 [==============================] - 0s 150ms/step - loss: 1.3758 - mae: 0.8962 - val_loss: 2.7389 - val_mae: 1.4758\n",
      "Epoch 89/565\n",
      "1/1 [==============================] - 0s 137ms/step - loss: 2.1611 - mae: 1.0922 - val_loss: 2.6989 - val_mae: 1.4659\n",
      "Epoch 90/565\n",
      "1/1 [==============================] - 0s 154ms/step - loss: 1.1036 - mae: 0.8394 - val_loss: 2.6611 - val_mae: 1.4567\n",
      "Epoch 91/565\n",
      "1/1 [==============================] - 0s 118ms/step - loss: 1.5064 - mae: 0.9417 - val_loss: 2.6216 - val_mae: 1.4471\n",
      "Epoch 92/565\n",
      "1/1 [==============================] - 0s 196ms/step - loss: 1.7605 - mae: 1.0096 - val_loss: 2.5865 - val_mae: 1.4378\n",
      "Epoch 93/565\n",
      "1/1 [==============================] - 0s 190ms/step - loss: 1.3964 - mae: 0.8687 - val_loss: 2.5487 - val_mae: 1.4277\n",
      "Epoch 94/565\n",
      "1/1 [==============================] - 0s 170ms/step - loss: 1.4553 - mae: 0.9327 - val_loss: 2.5142 - val_mae: 1.4184\n",
      "Epoch 95/565\n",
      "1/1 [==============================] - 0s 190ms/step - loss: 2.4974 - mae: 1.1223 - val_loss: 2.4854 - val_mae: 1.4108\n",
      "Epoch 96/565\n",
      "1/1 [==============================] - 0s 198ms/step - loss: 1.7434 - mae: 0.9341 - val_loss: 2.4685 - val_mae: 1.4064\n",
      "Epoch 97/565\n",
      "1/1 [==============================] - 0s 165ms/step - loss: 1.8304 - mae: 1.0544 - val_loss: 2.4620 - val_mae: 1.4050\n",
      "Epoch 98/565\n",
      "1/1 [==============================] - 0s 177ms/step - loss: 1.3148 - mae: 0.7967 - val_loss: 2.4739 - val_mae: 1.4086\n",
      "Epoch 99/565\n",
      "1/1 [==============================] - 0s 175ms/step - loss: 1.3926 - mae: 0.8653 - val_loss: 2.4842 - val_mae: 1.4118\n",
      "Epoch 100/565\n",
      "1/1 [==============================] - 0s 184ms/step - loss: 1.2309 - mae: 0.8296 - val_loss: 2.4846 - val_mae: 1.4121\n",
      "Epoch 101/565\n",
      "1/1 [==============================] - 0s 188ms/step - loss: 0.7623 - mae: 0.5868 - val_loss: 2.4961 - val_mae: 1.4154\n",
      "Epoch 102/565\n",
      "1/1 [==============================] - 0s 194ms/step - loss: 0.8106 - mae: 0.7357 - val_loss: 2.5122 - val_mae: 1.4204\n",
      "Epoch 103/565\n",
      "1/1 [==============================] - 0s 151ms/step - loss: 1.4799 - mae: 0.9231 - val_loss: 2.5257 - val_mae: 1.4245\n",
      "Epoch 104/565\n",
      "1/1 [==============================] - 0s 185ms/step - loss: 1.2186 - mae: 0.8002 - val_loss: 2.5246 - val_mae: 1.4249\n",
      "Epoch 105/565\n",
      "1/1 [==============================] - 0s 168ms/step - loss: 1.1023 - mae: 0.8070 - val_loss: 2.5222 - val_mae: 1.4249\n",
      "Epoch 106/565\n",
      "1/1 [==============================] - 0s 188ms/step - loss: 1.6214 - mae: 0.9964 - val_loss: 2.5083 - val_mae: 1.4216\n",
      "Epoch 107/565\n",
      "1/1 [==============================] - 0s 185ms/step - loss: 1.4295 - mae: 0.9165 - val_loss: 2.4801 - val_mae: 1.4147\n",
      "Epoch 108/565\n",
      "1/1 [==============================] - 0s 189ms/step - loss: 2.2904 - mae: 1.0711 - val_loss: 2.4485 - val_mae: 1.4066\n",
      "Epoch 109/565\n",
      "1/1 [==============================] - 0s 194ms/step - loss: 1.6585 - mae: 0.9560 - val_loss: 2.4277 - val_mae: 1.4010\n",
      "Epoch 110/565\n",
      "1/1 [==============================] - 0s 197ms/step - loss: 2.7718 - mae: 1.1141 - val_loss: 2.4042 - val_mae: 1.3946\n",
      "Epoch 111/565\n",
      "1/1 [==============================] - 0s 187ms/step - loss: 1.8891 - mae: 1.0054 - val_loss: 2.3736 - val_mae: 1.3862\n",
      "Epoch 112/565\n",
      "1/1 [==============================] - 0s 165ms/step - loss: 1.4677 - mae: 0.8721 - val_loss: 2.3455 - val_mae: 1.3779\n",
      "Epoch 113/565\n",
      "1/1 [==============================] - 0s 166ms/step - loss: 1.5332 - mae: 0.7326 - val_loss: 2.3193 - val_mae: 1.3701\n",
      "Epoch 114/565\n",
      "1/1 [==============================] - 0s 177ms/step - loss: 1.2715 - mae: 0.9383 - val_loss: 2.3014 - val_mae: 1.3644\n",
      "Epoch 115/565\n",
      "1/1 [==============================] - 0s 173ms/step - loss: 1.8878 - mae: 0.9189 - val_loss: 2.3007 - val_mae: 1.3636\n",
      "Epoch 116/565\n",
      "1/1 [==============================] - 0s 172ms/step - loss: 0.6136 - mae: 0.6582 - val_loss: 2.3074 - val_mae: 1.3650\n",
      "Epoch 117/565\n",
      "1/1 [==============================] - 0s 169ms/step - loss: 1.6019 - mae: 1.0856 - val_loss: 2.3100 - val_mae: 1.3652\n",
      "Epoch 118/565\n",
      "1/1 [==============================] - 0s 178ms/step - loss: 1.2733 - mae: 0.7737 - val_loss: 2.3181 - val_mae: 1.3672\n",
      "Epoch 119/565\n",
      "1/1 [==============================] - 0s 173ms/step - loss: 1.9395 - mae: 1.0763 - val_loss: 2.3199 - val_mae: 1.3673\n",
      "Epoch 120/565\n",
      "1/1 [==============================] - 0s 183ms/step - loss: 1.3889 - mae: 0.8556 - val_loss: 2.3379 - val_mae: 1.3720\n",
      "Epoch 121/565\n",
      "1/1 [==============================] - 0s 173ms/step - loss: 1.1288 - mae: 0.7556 - val_loss: 2.3489 - val_mae: 1.3748\n",
      "Epoch 122/565\n",
      "1/1 [==============================] - 0s 182ms/step - loss: 1.0741 - mae: 0.7878 - val_loss: 2.3557 - val_mae: 1.3765\n",
      "Epoch 123/565\n",
      "1/1 [==============================] - 0s 165ms/step - loss: 1.0803 - mae: 0.8368 - val_loss: 2.3589 - val_mae: 1.3774\n",
      "Epoch 124/565\n",
      "1/1 [==============================] - 0s 159ms/step - loss: 1.1969 - mae: 0.8169 - val_loss: 2.3551 - val_mae: 1.3767\n",
      "Epoch 125/565\n",
      "1/1 [==============================] - 0s 173ms/step - loss: 1.0412 - mae: 0.8317 - val_loss: 2.3628 - val_mae: 1.3789\n",
      "Epoch 126/565\n",
      "1/1 [==============================] - 0s 173ms/step - loss: 0.9662 - mae: 0.7272 - val_loss: 2.3608 - val_mae: 1.3785\n",
      "Epoch 127/565\n",
      "1/1 [==============================] - 0s 169ms/step - loss: 1.0365 - mae: 0.8221 - val_loss: 2.3476 - val_mae: 1.3754\n",
      "Epoch 128/565\n",
      "1/1 [==============================] - 0s 173ms/step - loss: 1.4069 - mae: 0.8878 - val_loss: 2.3338 - val_mae: 1.3718\n",
      "Epoch 129/565\n",
      "1/1 [==============================] - 0s 193ms/step - loss: 1.1927 - mae: 0.9680 - val_loss: 2.3280 - val_mae: 1.3703\n",
      "Epoch 130/565\n",
      "1/1 [==============================] - 0s 182ms/step - loss: 1.1603 - mae: 0.8264 - val_loss: 2.3222 - val_mae: 1.3689\n",
      "Epoch 131/565\n",
      "1/1 [==============================] - 0s 169ms/step - loss: 0.8179 - mae: 0.7167 - val_loss: 2.3151 - val_mae: 1.3672\n",
      "Epoch 132/565\n",
      "1/1 [==============================] - 0s 189ms/step - loss: 0.9036 - mae: 0.6912 - val_loss: 2.2984 - val_mae: 1.3628\n",
      "Epoch 133/565\n",
      "1/1 [==============================] - 0s 185ms/step - loss: 1.3909 - mae: 0.8341 - val_loss: 2.2903 - val_mae: 1.3605\n",
      "Epoch 134/565\n",
      "1/1 [==============================] - 0s 191ms/step - loss: 1.7489 - mae: 1.0182 - val_loss: 2.2841 - val_mae: 1.3584\n",
      "Epoch 135/565\n",
      "1/1 [==============================] - 0s 182ms/step - loss: 1.4942 - mae: 0.8934 - val_loss: 2.2772 - val_mae: 1.3561\n",
      "Epoch 136/565\n",
      "1/1 [==============================] - 0s 196ms/step - loss: 1.0403 - mae: 0.8091 - val_loss: 2.2664 - val_mae: 1.3529\n",
      "Epoch 137/565\n",
      "1/1 [==============================] - 0s 174ms/step - loss: 1.7210 - mae: 0.9568 - val_loss: 2.2557 - val_mae: 1.3498\n",
      "Epoch 138/565\n",
      "1/1 [==============================] - 0s 173ms/step - loss: 0.9209 - mae: 0.7368 - val_loss: 2.2458 - val_mae: 1.3468\n",
      "Epoch 139/565\n",
      "1/1 [==============================] - 0s 185ms/step - loss: 1.4121 - mae: 0.9326 - val_loss: 2.2489 - val_mae: 1.3474\n",
      "Epoch 140/565\n",
      "1/1 [==============================] - 0s 178ms/step - loss: 1.2083 - mae: 0.8586 - val_loss: 2.2448 - val_mae: 1.3460\n",
      "Epoch 141/565\n",
      "1/1 [==============================] - 0s 191ms/step - loss: 1.5389 - mae: 0.8267 - val_loss: 2.2517 - val_mae: 1.3475\n",
      "Epoch 142/565\n",
      "1/1 [==============================] - 0s 189ms/step - loss: 1.8158 - mae: 1.0224 - val_loss: 2.2573 - val_mae: 1.3486\n",
      "Epoch 143/565\n",
      "1/1 [==============================] - 0s 175ms/step - loss: 1.3116 - mae: 0.9098 - val_loss: 2.2666 - val_mae: 1.3507\n",
      "Epoch 144/565\n",
      "1/1 [==============================] - 0s 191ms/step - loss: 1.3628 - mae: 0.7876 - val_loss: 2.2738 - val_mae: 1.3524\n",
      "Epoch 145/565\n",
      "1/1 [==============================] - 0s 162ms/step - loss: 0.9297 - mae: 0.7291 - val_loss: 2.2870 - val_mae: 1.3558\n",
      "Epoch 146/565\n",
      "1/1 [==============================] - 0s 191ms/step - loss: 0.7954 - mae: 0.7897 - val_loss: 2.2923 - val_mae: 1.3570\n",
      "Epoch 147/565\n",
      "1/1 [==============================] - 0s 186ms/step - loss: 0.8301 - mae: 0.7207 - val_loss: 2.3020 - val_mae: 1.3595\n",
      "Epoch 148/565\n",
      "1/1 [==============================] - 0s 195ms/step - loss: 0.9096 - mae: 0.6971 - val_loss: 2.3090 - val_mae: 1.3613\n",
      "Epoch 149/565\n",
      "1/1 [==============================] - 0s 164ms/step - loss: 1.5633 - mae: 0.9411 - val_loss: 2.3129 - val_mae: 1.3627\n",
      "Epoch 150/565\n",
      "1/1 [==============================] - 0s 170ms/step - loss: 1.3908 - mae: 0.9835 - val_loss: 2.3126 - val_mae: 1.3632\n",
      "Epoch 151/565\n",
      "1/1 [==============================] - 0s 190ms/step - loss: 1.4288 - mae: 0.8979 - val_loss: 2.3025 - val_mae: 1.3609\n",
      "Epoch 152/565\n",
      "1/1 [==============================] - 0s 195ms/step - loss: 1.2836 - mae: 0.8679 - val_loss: 2.2901 - val_mae: 1.3581\n",
      "Epoch 153/565\n",
      "1/1 [==============================] - 0s 184ms/step - loss: 1.9277 - mae: 0.9969 - val_loss: 2.2825 - val_mae: 1.3567\n",
      "Epoch 154/565\n",
      "1/1 [==============================] - 0s 174ms/step - loss: 1.6454 - mae: 0.9697 - val_loss: 2.2762 - val_mae: 1.3553\n",
      "Epoch 155/565\n",
      "1/1 [==============================] - 0s 176ms/step - loss: 0.9353 - mae: 0.7600 - val_loss: 2.2916 - val_mae: 1.3596\n",
      "Epoch 156/565\n",
      "1/1 [==============================] - 0s 166ms/step - loss: 1.2300 - mae: 0.8094 - val_loss: 2.3031 - val_mae: 1.3626\n",
      "Epoch 157/565\n",
      "1/1 [==============================] - 0s 171ms/step - loss: 1.7973 - mae: 1.0610 - val_loss: 2.3114 - val_mae: 1.3651\n",
      "Epoch 158/565\n",
      "1/1 [==============================] - 0s 177ms/step - loss: 1.1282 - mae: 0.7232 - val_loss: 2.3193 - val_mae: 1.3673\n",
      "Epoch 159/565\n",
      "1/1 [==============================] - 0s 192ms/step - loss: 1.1251 - mae: 0.8612 - val_loss: 2.3172 - val_mae: 1.3669\n",
      "Epoch 160/565\n",
      "1/1 [==============================] - 0s 187ms/step - loss: 0.8995 - mae: 0.8076 - val_loss: 2.3161 - val_mae: 1.3667\n",
      "Epoch 161/565\n",
      "1/1 [==============================] - 0s 182ms/step - loss: 1.5149 - mae: 0.9204 - val_loss: 2.3166 - val_mae: 1.3668\n",
      "Epoch 162/565\n",
      "1/1 [==============================] - 0s 180ms/step - loss: 1.0950 - mae: 0.7076 - val_loss: 2.3123 - val_mae: 1.3654\n",
      "Epoch 163/565\n",
      "1/1 [==============================] - 0s 228ms/step - loss: 1.1487 - mae: 0.7874 - val_loss: 2.3000 - val_mae: 1.3619\n",
      "Epoch 164/565\n",
      "1/1 [==============================] - 0s 184ms/step - loss: 1.1667 - mae: 0.7883 - val_loss: 2.2914 - val_mae: 1.3593\n",
      "Epoch 165/565\n",
      "1/1 [==============================] - 0s 149ms/step - loss: 0.7867 - mae: 0.6579 - val_loss: 2.2835 - val_mae: 1.3569\n",
      "Epoch 166/565\n",
      "1/1 [==============================] - 0s 170ms/step - loss: 0.9947 - mae: 0.7596 - val_loss: 2.2756 - val_mae: 1.3545\n",
      "Epoch 167/565\n",
      "1/1 [==============================] - 0s 172ms/step - loss: 0.5372 - mae: 0.5998 - val_loss: 2.2634 - val_mae: 1.3511\n",
      "Epoch 168/565\n",
      "1/1 [==============================] - 0s 174ms/step - loss: 0.8179 - mae: 0.7252 - val_loss: 2.2564 - val_mae: 1.3492\n",
      "Epoch 169/565\n",
      "1/1 [==============================] - 0s 184ms/step - loss: 1.3009 - mae: 0.8806 - val_loss: 2.2485 - val_mae: 1.3471\n",
      "Epoch 170/565\n",
      "1/1 [==============================] - 0s 179ms/step - loss: 0.6507 - mae: 0.6192 - val_loss: 2.2274 - val_mae: 1.3414\n",
      "Epoch 171/565\n",
      "1/1 [==============================] - 0s 157ms/step - loss: 1.2011 - mae: 0.8061 - val_loss: 2.1991 - val_mae: 1.3339\n",
      "Epoch 172/565\n",
      "1/1 [==============================] - 0s 174ms/step - loss: 1.4851 - mae: 0.9109 - val_loss: 2.1743 - val_mae: 1.3272\n",
      "Epoch 173/565\n",
      "1/1 [==============================] - 0s 165ms/step - loss: 1.4352 - mae: 0.7772 - val_loss: 2.1610 - val_mae: 1.3236\n",
      "Epoch 174/565\n",
      "1/1 [==============================] - 0s 183ms/step - loss: 0.7583 - mae: 0.6437 - val_loss: 2.1482 - val_mae: 1.3203\n",
      "Epoch 175/565\n",
      "1/1 [==============================] - 0s 184ms/step - loss: 0.8431 - mae: 0.6260 - val_loss: 2.1291 - val_mae: 1.3148\n",
      "Epoch 176/565\n",
      "1/1 [==============================] - 0s 180ms/step - loss: 0.7087 - mae: 0.6549 - val_loss: 2.1224 - val_mae: 1.3130\n",
      "Epoch 177/565\n",
      "1/1 [==============================] - 0s 185ms/step - loss: 1.2799 - mae: 0.7104 - val_loss: 2.1236 - val_mae: 1.3138\n",
      "Epoch 178/565\n",
      "1/1 [==============================] - 0s 158ms/step - loss: 1.1180 - mae: 0.8216 - val_loss: 2.1185 - val_mae: 1.3129\n",
      "Epoch 179/565\n",
      "1/1 [==============================] - 0s 171ms/step - loss: 1.3224 - mae: 0.9044 - val_loss: 2.1190 - val_mae: 1.3136\n",
      "Epoch 180/565\n",
      "1/1 [==============================] - 0s 181ms/step - loss: 0.9587 - mae: 0.7732 - val_loss: 2.1122 - val_mae: 1.3119\n",
      "Epoch 181/565\n",
      "1/1 [==============================] - 0s 169ms/step - loss: 0.9605 - mae: 0.6905 - val_loss: 2.1086 - val_mae: 1.3113\n",
      "Epoch 182/565\n",
      "1/1 [==============================] - 0s 173ms/step - loss: 1.6388 - mae: 0.9271 - val_loss: 2.1131 - val_mae: 1.3132\n",
      "Epoch 183/565\n",
      "1/1 [==============================] - 0s 179ms/step - loss: 0.7414 - mae: 0.6358 - val_loss: 2.1233 - val_mae: 1.3164\n",
      "Epoch 184/565\n",
      "1/1 [==============================] - 0s 177ms/step - loss: 1.5733 - mae: 0.9632 - val_loss: 2.1322 - val_mae: 1.3192\n",
      "Epoch 185/565\n",
      "1/1 [==============================] - 0s 170ms/step - loss: 0.8017 - mae: 0.6449 - val_loss: 2.1397 - val_mae: 1.3214\n",
      "Epoch 186/565\n",
      "1/1 [==============================] - 0s 152ms/step - loss: 1.3764 - mae: 0.8136 - val_loss: 2.1508 - val_mae: 1.3247\n",
      "Epoch 187/565\n",
      "1/1 [==============================] - 0s 193ms/step - loss: 1.5786 - mae: 0.8913 - val_loss: 2.1570 - val_mae: 1.3274\n",
      "Epoch 188/565\n",
      "1/1 [==============================] - 0s 194ms/step - loss: 1.5740 - mae: 0.9607 - val_loss: 2.1715 - val_mae: 1.3323\n",
      "Epoch 189/565\n",
      "1/1 [==============================] - 0s 185ms/step - loss: 0.7788 - mae: 0.6954 - val_loss: 2.1806 - val_mae: 1.3352\n",
      "Epoch 190/565\n",
      "1/1 [==============================] - 0s 188ms/step - loss: 0.9780 - mae: 0.7338 - val_loss: 2.1852 - val_mae: 1.3360\n",
      "Epoch 191/565\n",
      "1/1 [==============================] - 0s 190ms/step - loss: 1.1468 - mae: 0.8183 - val_loss: 2.1823 - val_mae: 1.3344\n",
      "Epoch 192/565\n",
      "1/1 [==============================] - 0s 178ms/step - loss: 0.9441 - mae: 0.6699 - val_loss: 2.1776 - val_mae: 1.3324\n",
      "Epoch 193/565\n",
      "1/1 [==============================] - 0s 186ms/step - loss: 0.8412 - mae: 0.7405 - val_loss: 2.1058 - val_mae: 1.3073\n",
      "Epoch 194/565\n",
      "1/1 [==============================] - 0s 193ms/step - loss: 0.5527 - mae: 0.6072 - val_loss: 1.9819 - val_mae: 1.2682\n",
      "Epoch 195/565\n",
      "1/1 [==============================] - 0s 185ms/step - loss: 1.2932 - mae: 0.8450 - val_loss: 1.8786 - val_mae: 1.2343\n",
      "Epoch 196/565\n",
      "1/1 [==============================] - 0s 184ms/step - loss: 0.6817 - mae: 0.6385 - val_loss: 1.8218 - val_mae: 1.2156\n",
      "Epoch 197/565\n",
      "1/1 [==============================] - 0s 187ms/step - loss: 1.6158 - mae: 0.8102 - val_loss: 1.7633 - val_mae: 1.1958\n",
      "Epoch 198/565\n",
      "1/1 [==============================] - 0s 195ms/step - loss: 0.9721 - mae: 0.7759 - val_loss: 1.7490 - val_mae: 1.1916\n",
      "Epoch 199/565\n",
      "1/1 [==============================] - 0s 190ms/step - loss: 1.0906 - mae: 0.8023 - val_loss: 1.7337 - val_mae: 1.1868\n",
      "Epoch 200/565\n",
      "1/1 [==============================] - 0s 160ms/step - loss: 1.4919 - mae: 0.8746 - val_loss: 1.7241 - val_mae: 1.1843\n",
      "Epoch 201/565\n",
      "1/1 [==============================] - 0s 180ms/step - loss: 0.7143 - mae: 0.6200 - val_loss: 1.7095 - val_mae: 1.1799\n",
      "Epoch 202/565\n",
      "1/1 [==============================] - 0s 150ms/step - loss: 1.1574 - mae: 0.9046 - val_loss: 1.6950 - val_mae: 1.1756\n",
      "Epoch 203/565\n",
      "1/1 [==============================] - 0s 195ms/step - loss: 0.9411 - mae: 0.7311 - val_loss: 1.6753 - val_mae: 1.1691\n",
      "Epoch 204/565\n",
      "1/1 [==============================] - 0s 191ms/step - loss: 1.0222 - mae: 0.6886 - val_loss: 1.6743 - val_mae: 1.1693\n",
      "Epoch 205/565\n",
      "1/1 [==============================] - 0s 181ms/step - loss: 1.3826 - mae: 0.8697 - val_loss: 1.6721 - val_mae: 1.1689\n",
      "Epoch 206/565\n",
      "1/1 [==============================] - 0s 175ms/step - loss: 1.5608 - mae: 0.9285 - val_loss: 1.6708 - val_mae: 1.1687\n",
      "Epoch 207/565\n",
      "1/1 [==============================] - 0s 196ms/step - loss: 1.3076 - mae: 0.8965 - val_loss: 1.6675 - val_mae: 1.1678\n",
      "Epoch 208/565\n",
      "1/1 [==============================] - 0s 167ms/step - loss: 1.1024 - mae: 0.8138 - val_loss: 1.6798 - val_mae: 1.1724\n",
      "Epoch 209/565\n",
      "1/1 [==============================] - 0s 177ms/step - loss: 1.0170 - mae: 0.7920 - val_loss: 1.6904 - val_mae: 1.1763\n",
      "Epoch 210/565\n",
      "1/1 [==============================] - 0s 174ms/step - loss: 1.1825 - mae: 0.8160 - val_loss: 1.6923 - val_mae: 1.1772\n",
      "Epoch 211/565\n",
      "1/1 [==============================] - 0s 191ms/step - loss: 0.7875 - mae: 0.7118 - val_loss: 1.7053 - val_mae: 1.1820\n",
      "Epoch 212/565\n",
      "1/1 [==============================] - 0s 191ms/step - loss: 1.1278 - mae: 0.8360 - val_loss: 1.7124 - val_mae: 1.1846\n",
      "Epoch 213/565\n",
      "1/1 [==============================] - 0s 204ms/step - loss: 0.8723 - mae: 0.7284 - val_loss: 1.7178 - val_mae: 1.1867\n",
      "Epoch 214/565\n",
      "1/1 [==============================] - 0s 185ms/step - loss: 0.7105 - mae: 0.6531 - val_loss: 1.7224 - val_mae: 1.1884\n",
      "Epoch 215/565\n",
      "1/1 [==============================] - 0s 166ms/step - loss: 1.4725 - mae: 0.8467 - val_loss: 1.7358 - val_mae: 1.1931\n",
      "Epoch 216/565\n",
      "1/1 [==============================] - 0s 174ms/step - loss: 1.2885 - mae: 0.8406 - val_loss: 1.7327 - val_mae: 1.1920\n",
      "Epoch 217/565\n",
      "1/1 [==============================] - 0s 177ms/step - loss: 0.8829 - mae: 0.7225 - val_loss: 1.7284 - val_mae: 1.1905\n",
      "Epoch 218/565\n",
      "1/1 [==============================] - 0s 180ms/step - loss: 0.6340 - mae: 0.6156 - val_loss: 1.7325 - val_mae: 1.1921\n",
      "Epoch 219/565\n",
      "1/1 [==============================] - 0s 138ms/step - loss: 1.2345 - mae: 0.8795 - val_loss: 1.7346 - val_mae: 1.1929\n",
      "Epoch 220/565\n",
      "1/1 [==============================] - 0s 168ms/step - loss: 0.9656 - mae: 0.6984 - val_loss: 1.7363 - val_mae: 1.1937\n",
      "Epoch 221/565\n",
      "1/1 [==============================] - 0s 169ms/step - loss: 1.5750 - mae: 0.8489 - val_loss: 1.7361 - val_mae: 1.1936\n",
      "Epoch 222/565\n",
      "1/1 [==============================] - 0s 183ms/step - loss: 1.2642 - mae: 0.7543 - val_loss: 1.7369 - val_mae: 1.1939\n",
      "Epoch 223/565\n",
      "1/1 [==============================] - 0s 201ms/step - loss: 1.7462 - mae: 0.8518 - val_loss: 1.7367 - val_mae: 1.1937\n",
      "Epoch 224/565\n",
      "1/1 [==============================] - 0s 182ms/step - loss: 0.9891 - mae: 0.7920 - val_loss: 1.7416 - val_mae: 1.1952\n",
      "Epoch 225/565\n",
      "1/1 [==============================] - 0s 183ms/step - loss: 0.7375 - mae: 0.5796 - val_loss: 1.7365 - val_mae: 1.1934\n",
      "Epoch 226/565\n",
      "1/1 [==============================] - 0s 172ms/step - loss: 0.8441 - mae: 0.6830 - val_loss: 1.7335 - val_mae: 1.1922\n",
      "Epoch 227/565\n",
      "1/1 [==============================] - 0s 179ms/step - loss: 1.0035 - mae: 0.6872 - val_loss: 1.7293 - val_mae: 1.1907\n",
      "Epoch 228/565\n",
      "1/1 [==============================] - 0s 178ms/step - loss: 1.2484 - mae: 0.8673 - val_loss: 1.7259 - val_mae: 1.1896\n",
      "Epoch 229/565\n",
      "1/1 [==============================] - 0s 154ms/step - loss: 0.8753 - mae: 0.6883 - val_loss: 1.7195 - val_mae: 1.1874\n",
      "Epoch 230/565\n",
      "1/1 [==============================] - 0s 165ms/step - loss: 0.9119 - mae: 0.7605 - val_loss: 1.7174 - val_mae: 1.1864\n",
      "Epoch 231/565\n",
      "1/1 [==============================] - 0s 155ms/step - loss: 0.6428 - mae: 0.6151 - val_loss: 1.7149 - val_mae: 1.1852\n",
      "Epoch 232/565\n",
      "1/1 [==============================] - 0s 148ms/step - loss: 1.1568 - mae: 0.7656 - val_loss: 1.7130 - val_mae: 1.1844\n",
      "Epoch 233/565\n",
      "1/1 [==============================] - 0s 168ms/step - loss: 1.4110 - mae: 0.8456 - val_loss: 1.7133 - val_mae: 1.1843\n",
      "Epoch 234/565\n",
      "1/1 [==============================] - 0s 179ms/step - loss: 1.1721 - mae: 0.7541 - val_loss: 1.7102 - val_mae: 1.1830\n",
      "Epoch 235/565\n",
      "1/1 [==============================] - 0s 175ms/step - loss: 1.7596 - mae: 0.7785 - val_loss: 1.7098 - val_mae: 1.1827\n",
      "Epoch 236/565\n",
      "1/1 [==============================] - 0s 186ms/step - loss: 1.0392 - mae: 0.8011 - val_loss: 1.7124 - val_mae: 1.1835\n",
      "Epoch 237/565\n",
      "1/1 [==============================] - 0s 172ms/step - loss: 0.8570 - mae: 0.7001 - val_loss: 1.7085 - val_mae: 1.1820\n",
      "Epoch 238/565\n",
      "1/1 [==============================] - 0s 161ms/step - loss: 0.8755 - mae: 0.7614 - val_loss: 1.7010 - val_mae: 1.1791\n",
      "Epoch 239/565\n",
      "1/1 [==============================] - 0s 169ms/step - loss: 1.1368 - mae: 0.7219 - val_loss: 1.6970 - val_mae: 1.1777\n",
      "Epoch 240/565\n",
      "1/1 [==============================] - 0s 179ms/step - loss: 1.1028 - mae: 0.6720 - val_loss: 1.6895 - val_mae: 1.1750\n",
      "Epoch 241/565\n",
      "1/1 [==============================] - 0s 193ms/step - loss: 1.0009 - mae: 0.8266 - val_loss: 1.6852 - val_mae: 1.1734\n",
      "Epoch 242/565\n",
      "1/1 [==============================] - 0s 169ms/step - loss: 0.5601 - mae: 0.5718 - val_loss: 1.6790 - val_mae: 1.1712\n",
      "Epoch 243/565\n",
      "1/1 [==============================] - 0s 164ms/step - loss: 1.2334 - mae: 0.7692 - val_loss: 1.6677 - val_mae: 1.1672\n",
      "Epoch 244/565\n",
      "1/1 [==============================] - 0s 174ms/step - loss: 1.0270 - mae: 0.7521 - val_loss: 1.6518 - val_mae: 1.1613\n",
      "Epoch 245/565\n",
      "1/1 [==============================] - 0s 123ms/step - loss: 0.8968 - mae: 0.6910 - val_loss: 1.6336 - val_mae: 1.1545\n",
      "Epoch 246/565\n",
      "1/1 [==============================] - 0s 110ms/step - loss: 0.9393 - mae: 0.6974 - val_loss: 1.6195 - val_mae: 1.1493\n",
      "Epoch 247/565\n",
      "1/1 [==============================] - 0s 128ms/step - loss: 1.1204 - mae: 0.7764 - val_loss: 1.6110 - val_mae: 1.1462\n",
      "Epoch 248/565\n",
      "1/1 [==============================] - 0s 142ms/step - loss: 1.3396 - mae: 0.8177 - val_loss: 1.6067 - val_mae: 1.1445\n",
      "Epoch 249/565\n",
      "1/1 [==============================] - 0s 124ms/step - loss: 1.3867 - mae: 0.8599 - val_loss: 1.5960 - val_mae: 1.1405\n",
      "Epoch 250/565\n",
      "1/1 [==============================] - 0s 123ms/step - loss: 0.7311 - mae: 0.6331 - val_loss: 1.5860 - val_mae: 1.1366\n",
      "Epoch 251/565\n",
      "1/1 [==============================] - 0s 123ms/step - loss: 1.3076 - mae: 0.8331 - val_loss: 1.5791 - val_mae: 1.1339\n",
      "Epoch 252/565\n",
      "1/1 [==============================] - 0s 127ms/step - loss: 0.4148 - mae: 0.5209 - val_loss: 1.5784 - val_mae: 1.1334\n",
      "Epoch 253/565\n",
      "1/1 [==============================] - 0s 121ms/step - loss: 1.2520 - mae: 0.7837 - val_loss: 1.5886 - val_mae: 1.1370\n",
      "Epoch 254/565\n",
      "1/1 [==============================] - 0s 121ms/step - loss: 0.8301 - mae: 0.7473 - val_loss: 1.5987 - val_mae: 1.1405\n",
      "Epoch 255/565\n",
      "1/1 [==============================] - 0s 159ms/step - loss: 1.1731 - mae: 0.8031 - val_loss: 1.6042 - val_mae: 1.1424\n",
      "Epoch 256/565\n",
      "1/1 [==============================] - 0s 122ms/step - loss: 1.2454 - mae: 0.8165 - val_loss: 1.6157 - val_mae: 1.1466\n",
      "Epoch 257/565\n",
      "1/1 [==============================] - 0s 119ms/step - loss: 0.8900 - mae: 0.5809 - val_loss: 1.6255 - val_mae: 1.1503\n",
      "Epoch 258/565\n",
      "1/1 [==============================] - 0s 121ms/step - loss: 0.7017 - mae: 0.5733 - val_loss: 1.6249 - val_mae: 1.1502\n",
      "Epoch 259/565\n",
      "1/1 [==============================] - 0s 114ms/step - loss: 0.7356 - mae: 0.6444 - val_loss: 1.6309 - val_mae: 1.1526\n",
      "Epoch 260/565\n",
      "1/1 [==============================] - 0s 117ms/step - loss: 1.0406 - mae: 0.7700 - val_loss: 1.6286 - val_mae: 1.1519\n",
      "Epoch 261/565\n",
      "1/1 [==============================] - 0s 103ms/step - loss: 1.2263 - mae: 0.7163 - val_loss: 1.6227 - val_mae: 1.1504\n",
      "Epoch 262/565\n",
      "1/1 [==============================] - 0s 112ms/step - loss: 0.5385 - mae: 0.5484 - val_loss: 1.6183 - val_mae: 1.1491\n",
      "Epoch 263/565\n",
      "1/1 [==============================] - 0s 119ms/step - loss: 0.6905 - mae: 0.6709 - val_loss: 1.6050 - val_mae: 1.1443\n",
      "Epoch 264/565\n",
      "1/1 [==============================] - 0s 123ms/step - loss: 1.0226 - mae: 0.6772 - val_loss: 1.5994 - val_mae: 1.1423\n",
      "Epoch 265/565\n",
      "1/1 [==============================] - 0s 107ms/step - loss: 0.7984 - mae: 0.6378 - val_loss: 1.5977 - val_mae: 1.1417\n",
      "Epoch 266/565\n",
      "1/1 [==============================] - 0s 120ms/step - loss: 0.7892 - mae: 0.7254 - val_loss: 1.5891 - val_mae: 1.1385\n",
      "Epoch 267/565\n",
      "1/1 [==============================] - 0s 123ms/step - loss: 1.0003 - mae: 0.6951 - val_loss: 1.5900 - val_mae: 1.1389\n",
      "Epoch 268/565\n",
      "1/1 [==============================] - 0s 119ms/step - loss: 1.1027 - mae: 0.7523 - val_loss: 1.5937 - val_mae: 1.1404\n",
      "Epoch 269/565\n",
      "1/1 [==============================] - 0s 120ms/step - loss: 0.9376 - mae: 0.7066 - val_loss: 1.5972 - val_mae: 1.1418\n",
      "Epoch 270/565\n",
      "1/1 [==============================] - 0s 168ms/step - loss: 1.0345 - mae: 0.6656 - val_loss: 1.6042 - val_mae: 1.1444\n",
      "Epoch 271/565\n",
      "1/1 [==============================] - 0s 121ms/step - loss: 0.6662 - mae: 0.5831 - val_loss: 1.6082 - val_mae: 1.1458\n",
      "Epoch 272/565\n",
      "1/1 [==============================] - 0s 120ms/step - loss: 1.3367 - mae: 0.7867 - val_loss: 1.6103 - val_mae: 1.1466\n",
      "Epoch 273/565\n",
      "1/1 [==============================] - 0s 112ms/step - loss: 0.8626 - mae: 0.6658 - val_loss: 1.6112 - val_mae: 1.1471\n",
      "Epoch 274/565\n",
      "1/1 [==============================] - 0s 120ms/step - loss: 0.6819 - mae: 0.6313 - val_loss: 1.6094 - val_mae: 1.1466\n",
      "Epoch 275/565\n",
      "1/1 [==============================] - 0s 112ms/step - loss: 0.7978 - mae: 0.6573 - val_loss: 1.5941 - val_mae: 1.1411\n",
      "Epoch 276/565\n",
      "1/1 [==============================] - 0s 112ms/step - loss: 1.3120 - mae: 0.7968 - val_loss: 1.5825 - val_mae: 1.1369\n",
      "Epoch 277/565\n",
      "1/1 [==============================] - 0s 121ms/step - loss: 0.7415 - mae: 0.5896 - val_loss: 1.5732 - val_mae: 1.1335\n",
      "Epoch 278/565\n",
      "1/1 [==============================] - 0s 120ms/step - loss: 1.4564 - mae: 0.8318 - val_loss: 1.5643 - val_mae: 1.1303\n",
      "Epoch 279/565\n",
      "1/1 [==============================] - 0s 148ms/step - loss: 0.9957 - mae: 0.7244 - val_loss: 1.5571 - val_mae: 1.1277\n",
      "Epoch 280/565\n",
      "1/1 [==============================] - 0s 121ms/step - loss: 1.3358 - mae: 0.7594 - val_loss: 1.5486 - val_mae: 1.1245\n",
      "Epoch 281/565\n",
      "1/1 [==============================] - 0s 125ms/step - loss: 0.7512 - mae: 0.6348 - val_loss: 1.5345 - val_mae: 1.1179\n",
      "Epoch 282/565\n",
      "1/1 [==============================] - 0s 112ms/step - loss: 1.0259 - mae: 0.7142 - val_loss: 1.5253 - val_mae: 1.1135\n",
      "Epoch 283/565\n",
      "1/1 [==============================] - 0s 120ms/step - loss: 1.4279 - mae: 0.8820 - val_loss: 1.5240 - val_mae: 1.1129\n",
      "Epoch 284/565\n",
      "1/1 [==============================] - 0s 115ms/step - loss: 1.1076 - mae: 0.7726 - val_loss: 1.5412 - val_mae: 1.1204\n",
      "Epoch 285/565\n",
      "1/1 [==============================] - 0s 113ms/step - loss: 0.7115 - mae: 0.6318 - val_loss: 1.5623 - val_mae: 1.1285\n",
      "Epoch 286/565\n",
      "1/1 [==============================] - 0s 112ms/step - loss: 0.7276 - mae: 0.6716 - val_loss: 1.5812 - val_mae: 1.1356\n",
      "Epoch 287/565\n",
      "1/1 [==============================] - 0s 120ms/step - loss: 0.9854 - mae: 0.7111 - val_loss: 1.5872 - val_mae: 1.1378\n",
      "Epoch 288/565\n",
      "1/1 [==============================] - 0s 120ms/step - loss: 1.2927 - mae: 0.7625 - val_loss: 1.5852 - val_mae: 1.1367\n",
      "Epoch 289/565\n",
      "1/1 [==============================] - 0s 121ms/step - loss: 0.8497 - mae: 0.6258 - val_loss: 1.5910 - val_mae: 1.1386\n",
      "Epoch 290/565\n",
      "1/1 [==============================] - 0s 117ms/step - loss: 1.3345 - mae: 0.8446 - val_loss: 1.5952 - val_mae: 1.1399\n",
      "Epoch 291/565\n",
      "1/1 [==============================] - 0s 120ms/step - loss: 1.4470 - mae: 0.8121 - val_loss: 1.5976 - val_mae: 1.1407\n",
      "Epoch 292/565\n",
      "1/1 [==============================] - 0s 104ms/step - loss: 1.1371 - mae: 0.7554 - val_loss: 1.6011 - val_mae: 1.1419\n",
      "Epoch 293/565\n",
      "1/1 [==============================] - 0s 113ms/step - loss: 0.9457 - mae: 0.7402 - val_loss: 1.6029 - val_mae: 1.1423\n",
      "Epoch 294/565\n",
      "1/1 [==============================] - 0s 121ms/step - loss: 0.8557 - mae: 0.6520 - val_loss: 1.6056 - val_mae: 1.1434\n",
      "Epoch 295/565\n",
      "1/1 [==============================] - 0s 109ms/step - loss: 0.6275 - mae: 0.5944 - val_loss: 1.6038 - val_mae: 1.1428\n",
      "Epoch 296/565\n",
      "1/1 [==============================] - 0s 165ms/step - loss: 0.9801 - mae: 0.6938 - val_loss: 1.6023 - val_mae: 1.1421\n",
      "Epoch 297/565\n",
      "1/1 [==============================] - 0s 120ms/step - loss: 1.5312 - mae: 0.8551 - val_loss: 1.5995 - val_mae: 1.1411\n",
      "Epoch 298/565\n",
      "1/1 [==============================] - 0s 121ms/step - loss: 1.3520 - mae: 0.7586 - val_loss: 1.5913 - val_mae: 1.1382\n",
      "Epoch 299/565\n",
      "1/1 [==============================] - 0s 112ms/step - loss: 1.2510 - mae: 0.6966 - val_loss: 1.5817 - val_mae: 1.1348\n",
      "Epoch 300/565\n",
      "1/1 [==============================] - 0s 117ms/step - loss: 0.6198 - mae: 0.6141 - val_loss: 1.5730 - val_mae: 1.1317\n",
      "Epoch 301/565\n",
      "1/1 [==============================] - 0s 124ms/step - loss: 0.7371 - mae: 0.5822 - val_loss: 1.5639 - val_mae: 1.1284\n",
      "Epoch 302/565\n",
      "1/1 [==============================] - 0s 114ms/step - loss: 0.7101 - mae: 0.6241 - val_loss: 1.5577 - val_mae: 1.1262\n",
      "Epoch 303/565\n",
      "1/1 [==============================] - 0s 113ms/step - loss: 0.8896 - mae: 0.7107 - val_loss: 1.5527 - val_mae: 1.1242\n",
      "Epoch 304/565\n",
      "1/1 [==============================] - 0s 124ms/step - loss: 1.1338 - mae: 0.7858 - val_loss: 1.5405 - val_mae: 1.1195\n",
      "Epoch 305/565\n",
      "1/1 [==============================] - 0s 120ms/step - loss: 0.9150 - mae: 0.6693 - val_loss: 1.5244 - val_mae: 1.1135\n",
      "Epoch 306/565\n",
      "1/1 [==============================] - 0s 122ms/step - loss: 0.7631 - mae: 0.6397 - val_loss: 1.5121 - val_mae: 1.1089\n",
      "Epoch 307/565\n",
      "1/1 [==============================] - 0s 117ms/step - loss: 0.6339 - mae: 0.5564 - val_loss: 1.5060 - val_mae: 1.1072\n",
      "Epoch 308/565\n",
      "1/1 [==============================] - 0s 120ms/step - loss: 1.1522 - mae: 0.7899 - val_loss: 1.4988 - val_mae: 1.1049\n",
      "Epoch 309/565\n",
      "1/1 [==============================] - 0s 113ms/step - loss: 0.7422 - mae: 0.5885 - val_loss: 1.5006 - val_mae: 1.1059\n",
      "Epoch 310/565\n",
      "1/1 [==============================] - 0s 112ms/step - loss: 0.9437 - mae: 0.7379 - val_loss: 1.5100 - val_mae: 1.1096\n",
      "Epoch 311/565\n",
      "1/1 [==============================] - 0s 106ms/step - loss: 0.8103 - mae: 0.6752 - val_loss: 1.5166 - val_mae: 1.1122\n",
      "Epoch 312/565\n",
      "1/1 [==============================] - 0s 105ms/step - loss: 1.0572 - mae: 0.7530 - val_loss: 1.5129 - val_mae: 1.1106\n",
      "Epoch 313/565\n",
      "1/1 [==============================] - 0s 113ms/step - loss: 0.9303 - mae: 0.6465 - val_loss: 1.5019 - val_mae: 1.1063\n",
      "Epoch 314/565\n",
      "1/1 [==============================] - 0s 112ms/step - loss: 0.8137 - mae: 0.7062 - val_loss: 1.4999 - val_mae: 1.1055\n",
      "Epoch 315/565\n",
      "1/1 [==============================] - 0s 113ms/step - loss: 1.4764 - mae: 0.8327 - val_loss: 1.4975 - val_mae: 1.1045\n",
      "Epoch 316/565\n",
      "1/1 [==============================] - 0s 113ms/step - loss: 0.8494 - mae: 0.6749 - val_loss: 1.4957 - val_mae: 1.1035\n",
      "Epoch 317/565\n",
      "1/1 [==============================] - 0s 112ms/step - loss: 1.2934 - mae: 0.7443 - val_loss: 1.5024 - val_mae: 1.1060\n",
      "Epoch 318/565\n",
      "1/1 [==============================] - 0s 120ms/step - loss: 1.2115 - mae: 0.7368 - val_loss: 1.4275 - val_mae: 1.0757\n",
      "Epoch 319/565\n",
      "1/1 [==============================] - 0s 129ms/step - loss: 1.1159 - mae: 0.7404 - val_loss: 1.3327 - val_mae: 1.0514\n",
      "Epoch 320/565\n",
      "1/1 [==============================] - 0s 128ms/step - loss: 1.1897 - mae: 0.7331 - val_loss: 1.2693 - val_mae: 1.0347\n",
      "Epoch 321/565\n",
      "1/1 [==============================] - 0s 154ms/step - loss: 0.8330 - mae: 0.6467 - val_loss: 1.2516 - val_mae: 1.0296\n",
      "Epoch 322/565\n",
      "1/1 [==============================] - 0s 145ms/step - loss: 0.9679 - mae: 0.7566 - val_loss: 1.2787 - val_mae: 1.0364\n",
      "Epoch 323/565\n",
      "1/1 [==============================] - 0s 145ms/step - loss: 0.9546 - mae: 0.7136 - val_loss: 1.2968 - val_mae: 1.0409\n",
      "Epoch 324/565\n",
      "1/1 [==============================] - 0s 153ms/step - loss: 1.0910 - mae: 0.7391 - val_loss: 1.3127 - val_mae: 1.0448\n",
      "Epoch 325/565\n",
      "1/1 [==============================] - 0s 156ms/step - loss: 0.9787 - mae: 0.6807 - val_loss: 1.3382 - val_mae: 1.0518\n",
      "Epoch 326/565\n",
      "1/1 [==============================] - 0s 148ms/step - loss: 0.9360 - mae: 0.7094 - val_loss: 1.3575 - val_mae: 1.0580\n",
      "Epoch 327/565\n",
      "1/1 [==============================] - 0s 169ms/step - loss: 0.8617 - mae: 0.7066 - val_loss: 1.3616 - val_mae: 1.0598\n",
      "Epoch 328/565\n",
      "1/1 [==============================] - 0s 172ms/step - loss: 1.0589 - mae: 0.7955 - val_loss: 1.3787 - val_mae: 1.0636\n",
      "Epoch 329/565\n",
      "1/1 [==============================] - 0s 160ms/step - loss: 0.9488 - mae: 0.6317 - val_loss: 1.3773 - val_mae: 1.0626\n",
      "Epoch 330/565\n",
      "1/1 [==============================] - 0s 161ms/step - loss: 0.9304 - mae: 0.6900 - val_loss: 1.3903 - val_mae: 1.0651\n",
      "Epoch 331/565\n",
      "1/1 [==============================] - 0s 151ms/step - loss: 1.4046 - mae: 0.8051 - val_loss: 1.3880 - val_mae: 1.0639\n",
      "Epoch 332/565\n",
      "1/1 [==============================] - 0s 175ms/step - loss: 0.9331 - mae: 0.6443 - val_loss: 1.3951 - val_mae: 1.0650\n",
      "Epoch 333/565\n",
      "1/1 [==============================] - 0s 191ms/step - loss: 0.9754 - mae: 0.7522 - val_loss: 1.4051 - val_mae: 1.0674\n",
      "Epoch 334/565\n",
      "1/1 [==============================] - 0s 236ms/step - loss: 1.3777 - mae: 0.7940 - val_loss: 1.4109 - val_mae: 1.0690\n",
      "Epoch 335/565\n",
      "1/1 [==============================] - 0s 168ms/step - loss: 1.4323 - mae: 0.8109 - val_loss: 1.4192 - val_mae: 1.0714\n",
      "Epoch 336/565\n",
      "1/1 [==============================] - 0s 186ms/step - loss: 0.7737 - mae: 0.6028 - val_loss: 1.4216 - val_mae: 1.0723\n",
      "Epoch 337/565\n",
      "1/1 [==============================] - 0s 154ms/step - loss: 1.0467 - mae: 0.7263 - val_loss: 1.4247 - val_mae: 1.0735\n",
      "Epoch 338/565\n",
      "1/1 [==============================] - 0s 162ms/step - loss: 1.0427 - mae: 0.7371 - val_loss: 1.4308 - val_mae: 1.0751\n",
      "Epoch 339/565\n",
      "1/1 [==============================] - 0s 159ms/step - loss: 0.7106 - mae: 0.6569 - val_loss: 1.4312 - val_mae: 1.0753\n",
      "Epoch 340/565\n",
      "1/1 [==============================] - 0s 153ms/step - loss: 0.9721 - mae: 0.6903 - val_loss: 1.4339 - val_mae: 1.0756\n",
      "Epoch 341/565\n",
      "1/1 [==============================] - 0s 153ms/step - loss: 1.1271 - mae: 0.7614 - val_loss: 1.4259 - val_mae: 1.0697\n",
      "Epoch 342/565\n",
      "1/1 [==============================] - 0s 153ms/step - loss: 1.0974 - mae: 0.7243 - val_loss: 1.4151 - val_mae: 1.0642\n",
      "Epoch 343/565\n",
      "1/1 [==============================] - 0s 145ms/step - loss: 1.0235 - mae: 0.7459 - val_loss: 1.4126 - val_mae: 1.0620\n",
      "Epoch 344/565\n",
      "1/1 [==============================] - 0s 194ms/step - loss: 0.9144 - mae: 0.7190 - val_loss: 1.4122 - val_mae: 1.0627\n",
      "Epoch 345/565\n",
      "1/1 [==============================] - 0s 166ms/step - loss: 1.0279 - mae: 0.6532 - val_loss: 1.4051 - val_mae: 1.0620\n",
      "Epoch 346/565\n",
      "1/1 [==============================] - 0s 153ms/step - loss: 0.5658 - mae: 0.5004 - val_loss: 1.4049 - val_mae: 1.0624\n",
      "Epoch 347/565\n",
      "1/1 [==============================] - 0s 155ms/step - loss: 0.4223 - mae: 0.4651 - val_loss: 1.4090 - val_mae: 1.0641\n",
      "Epoch 348/565\n",
      "1/1 [==============================] - 0s 164ms/step - loss: 1.2633 - mae: 0.7822 - val_loss: 1.4175 - val_mae: 1.0668\n",
      "Epoch 349/565\n",
      "1/1 [==============================] - 0s 146ms/step - loss: 0.7222 - mae: 0.6480 - val_loss: 1.4171 - val_mae: 1.0672\n",
      "Epoch 350/565\n",
      "1/1 [==============================] - 0s 145ms/step - loss: 0.7118 - mae: 0.5639 - val_loss: 1.4180 - val_mae: 1.0677\n",
      "Epoch 351/565\n",
      "1/1 [==============================] - 0s 152ms/step - loss: 0.8500 - mae: 0.6695 - val_loss: 1.4145 - val_mae: 1.0667\n",
      "Epoch 352/565\n",
      "1/1 [==============================] - 0s 155ms/step - loss: 0.6265 - mae: 0.5633 - val_loss: 1.4074 - val_mae: 1.0650\n",
      "Epoch 353/565\n",
      "1/1 [==============================] - 0s 153ms/step - loss: 0.8457 - mae: 0.6851 - val_loss: 1.4049 - val_mae: 1.0643\n",
      "Epoch 354/565\n",
      "1/1 [==============================] - 0s 154ms/step - loss: 1.0362 - mae: 0.6740 - val_loss: 1.4001 - val_mae: 1.0632\n",
      "Epoch 355/565\n",
      "1/1 [==============================] - 0s 151ms/step - loss: 0.5672 - mae: 0.5092 - val_loss: 1.3953 - val_mae: 1.0620\n",
      "Epoch 356/565\n",
      "1/1 [==============================] - 0s 155ms/step - loss: 0.7776 - mae: 0.7007 - val_loss: 1.3958 - val_mae: 1.0622\n",
      "Epoch 357/565\n",
      "1/1 [==============================] - 0s 147ms/step - loss: 0.8775 - mae: 0.6826 - val_loss: 1.3957 - val_mae: 1.0625\n",
      "Epoch 358/565\n",
      "1/1 [==============================] - 0s 171ms/step - loss: 1.0980 - mae: 0.7248 - val_loss: 1.4021 - val_mae: 1.0642\n",
      "Epoch 359/565\n",
      "1/1 [==============================] - 0s 213ms/step - loss: 0.8057 - mae: 0.6484 - val_loss: 1.4006 - val_mae: 1.0640\n",
      "Epoch 360/565\n",
      "1/1 [==============================] - 0s 172ms/step - loss: 0.9783 - mae: 0.6913 - val_loss: 1.4029 - val_mae: 1.0649\n",
      "Epoch 361/565\n",
      "1/1 [==============================] - 0s 153ms/step - loss: 0.8824 - mae: 0.6829 - val_loss: 1.4052 - val_mae: 1.0654\n",
      "Epoch 362/565\n",
      "1/1 [==============================] - 0s 152ms/step - loss: 0.8765 - mae: 0.6000 - val_loss: 1.4158 - val_mae: 1.0678\n",
      "Epoch 363/565\n",
      "1/1 [==============================] - 0s 149ms/step - loss: 0.8457 - mae: 0.6572 - val_loss: 1.4171 - val_mae: 1.0679\n",
      "Epoch 364/565\n",
      "1/1 [==============================] - 0s 180ms/step - loss: 1.1342 - mae: 0.6546 - val_loss: 1.4153 - val_mae: 1.0672\n",
      "Epoch 365/565\n",
      "1/1 [==============================] - 0s 179ms/step - loss: 1.0255 - mae: 0.7238 - val_loss: 1.4157 - val_mae: 1.0670\n",
      "Epoch 366/565\n",
      "1/1 [==============================] - 0s 189ms/step - loss: 0.7558 - mae: 0.5497 - val_loss: 1.4182 - val_mae: 1.0673\n",
      "Epoch 367/565\n",
      "1/1 [==============================] - 0s 163ms/step - loss: 1.1941 - mae: 0.7536 - val_loss: 1.4227 - val_mae: 1.0683\n",
      "Epoch 368/565\n",
      "1/1 [==============================] - 0s 153ms/step - loss: 0.8599 - mae: 0.6305 - val_loss: 1.4279 - val_mae: 1.0696\n",
      "Epoch 369/565\n",
      "1/1 [==============================] - 0s 153ms/step - loss: 1.1116 - mae: 0.7189 - val_loss: 1.4329 - val_mae: 1.0710\n",
      "Epoch 370/565\n",
      "1/1 [==============================] - 0s 159ms/step - loss: 0.9604 - mae: 0.6422 - val_loss: 1.4381 - val_mae: 1.0725\n",
      "Epoch 371/565\n",
      "1/1 [==============================] - 0s 143ms/step - loss: 0.7578 - mae: 0.6850 - val_loss: 1.4408 - val_mae: 1.0735\n",
      "Epoch 372/565\n",
      "1/1 [==============================] - 0s 162ms/step - loss: 0.5445 - mae: 0.5720 - val_loss: 1.4376 - val_mae: 1.0728\n",
      "Epoch 373/565\n",
      "1/1 [==============================] - 0s 159ms/step - loss: 1.0062 - mae: 0.6983 - val_loss: 1.4333 - val_mae: 1.0718\n",
      "Epoch 374/565\n",
      "1/1 [==============================] - 0s 177ms/step - loss: 1.0206 - mae: 0.6947 - val_loss: 1.4313 - val_mae: 1.0714\n",
      "Epoch 375/565\n",
      "1/1 [==============================] - 0s 207ms/step - loss: 1.5571 - mae: 0.8473 - val_loss: 1.4283 - val_mae: 1.0708\n",
      "Epoch 376/565\n",
      "1/1 [==============================] - 0s 152ms/step - loss: 0.7032 - mae: 0.6194 - val_loss: 1.4258 - val_mae: 1.0706\n",
      "Epoch 377/565\n",
      "1/1 [==============================] - 0s 195ms/step - loss: 0.7347 - mae: 0.6288 - val_loss: 1.4278 - val_mae: 1.0713\n",
      "Epoch 378/565\n",
      "1/1 [==============================] - 0s 164ms/step - loss: 1.0577 - mae: 0.6658 - val_loss: 1.4290 - val_mae: 1.0717\n",
      "Epoch 379/565\n",
      "1/1 [==============================] - 0s 157ms/step - loss: 1.2816 - mae: 0.7176 - val_loss: 1.4302 - val_mae: 1.0719\n",
      "Epoch 380/565\n",
      "1/1 [==============================] - 0s 155ms/step - loss: 1.3518 - mae: 0.7806 - val_loss: 1.4406 - val_mae: 1.0745\n",
      "Epoch 381/565\n",
      "1/1 [==============================] - 0s 144ms/step - loss: 1.3168 - mae: 0.8148 - val_loss: 1.4521 - val_mae: 1.0771\n",
      "Epoch 382/565\n",
      "1/1 [==============================] - 0s 164ms/step - loss: 0.6054 - mae: 0.5711 - val_loss: 1.4542 - val_mae: 1.0776\n",
      "Epoch 383/565\n",
      "1/1 [==============================] - 0s 144ms/step - loss: 1.0911 - mae: 0.7075 - val_loss: 1.4493 - val_mae: 1.0764\n",
      "Epoch 384/565\n",
      "1/1 [==============================] - 0s 153ms/step - loss: 0.6844 - mae: 0.6227 - val_loss: 1.4426 - val_mae: 1.0750\n",
      "Epoch 385/565\n",
      "1/1 [==============================] - 0s 152ms/step - loss: 0.7437 - mae: 0.6875 - val_loss: 1.4379 - val_mae: 1.0740\n",
      "Epoch 386/565\n",
      "1/1 [==============================] - 0s 144ms/step - loss: 0.8814 - mae: 0.6649 - val_loss: 1.4305 - val_mae: 1.0725\n",
      "Epoch 387/565\n",
      "1/1 [==============================] - 0s 147ms/step - loss: 0.5688 - mae: 0.5824 - val_loss: 1.4290 - val_mae: 1.0724\n",
      "Epoch 388/565\n",
      "1/1 [==============================] - 0s 160ms/step - loss: 0.8941 - mae: 0.6393 - val_loss: 1.4241 - val_mae: 1.0717\n",
      "Epoch 389/565\n",
      "1/1 [==============================] - 0s 153ms/step - loss: 1.1141 - mae: 0.7815 - val_loss: 1.4151 - val_mae: 1.0701\n",
      "Epoch 390/565\n",
      "1/1 [==============================] - 0s 153ms/step - loss: 1.1244 - mae: 0.7532 - val_loss: 1.4051 - val_mae: 1.0684\n",
      "Epoch 391/565\n",
      "1/1 [==============================] - 0s 153ms/step - loss: 0.9538 - mae: 0.6662 - val_loss: 1.4000 - val_mae: 1.0676\n",
      "Epoch 392/565\n",
      "1/1 [==============================] - 0s 161ms/step - loss: 0.9244 - mae: 0.6451 - val_loss: 1.3934 - val_mae: 1.0666\n",
      "Epoch 393/565\n",
      "1/1 [==============================] - 0s 163ms/step - loss: 0.8209 - mae: 0.6789 - val_loss: 1.3879 - val_mae: 1.0656\n",
      "Epoch 394/565\n",
      "1/1 [==============================] - 0s 153ms/step - loss: 1.0361 - mae: 0.7474 - val_loss: 1.3794 - val_mae: 1.0636\n",
      "Epoch 395/565\n",
      "1/1 [==============================] - 0s 153ms/step - loss: 1.2995 - mae: 0.8118 - val_loss: 1.3752 - val_mae: 1.0623\n",
      "Epoch 396/565\n",
      "1/1 [==============================] - 0s 144ms/step - loss: 0.8380 - mae: 0.6831 - val_loss: 1.3709 - val_mae: 1.0608\n",
      "Epoch 397/565\n",
      "1/1 [==============================] - 0s 165ms/step - loss: 1.0231 - mae: 0.6884 - val_loss: 1.3714 - val_mae: 1.0603\n",
      "Epoch 398/565\n",
      "1/1 [==============================] - 0s 177ms/step - loss: 1.1799 - mae: 0.7143 - val_loss: 1.3710 - val_mae: 1.0598\n",
      "Epoch 399/565\n",
      "1/1 [==============================] - 0s 162ms/step - loss: 0.8010 - mae: 0.6279 - val_loss: 1.3744 - val_mae: 1.0602\n",
      "Epoch 400/565\n",
      "1/1 [==============================] - 0s 161ms/step - loss: 0.9128 - mae: 0.6816 - val_loss: 1.3795 - val_mae: 1.0606\n",
      "Epoch 401/565\n",
      "1/1 [==============================] - 0s 161ms/step - loss: 0.6352 - mae: 0.6028 - val_loss: 1.3827 - val_mae: 1.0606\n",
      "Epoch 402/565\n",
      "1/1 [==============================] - 0s 160ms/step - loss: 0.6501 - mae: 0.5975 - val_loss: 1.3878 - val_mae: 1.0612\n",
      "Epoch 403/565\n",
      "1/1 [==============================] - 0s 156ms/step - loss: 1.1049 - mae: 0.6844 - val_loss: 1.3912 - val_mae: 1.0614\n",
      "Epoch 404/565\n",
      "1/1 [==============================] - 0s 152ms/step - loss: 0.9102 - mae: 0.6842 - val_loss: 1.3925 - val_mae: 1.0614\n",
      "Epoch 405/565\n",
      "1/1 [==============================] - 0s 162ms/step - loss: 0.6252 - mae: 0.5741 - val_loss: 1.3965 - val_mae: 1.0621\n",
      "Epoch 406/565\n",
      "1/1 [==============================] - 0s 145ms/step - loss: 0.7029 - mae: 0.5938 - val_loss: 1.3990 - val_mae: 1.0625\n",
      "Epoch 407/565\n",
      "1/1 [==============================] - 0s 144ms/step - loss: 0.9013 - mae: 0.6425 - val_loss: 1.3999 - val_mae: 1.0626\n",
      "Epoch 408/565\n",
      "1/1 [==============================] - 0s 145ms/step - loss: 1.0356 - mae: 0.6945 - val_loss: 1.3995 - val_mae: 1.0625\n",
      "Epoch 409/565\n",
      "1/1 [==============================] - 0s 144ms/step - loss: 1.1618 - mae: 0.7320 - val_loss: 1.3934 - val_mae: 1.0608\n",
      "Epoch 410/565\n",
      "1/1 [==============================] - 0s 136ms/step - loss: 1.0640 - mae: 0.6951 - val_loss: 1.3889 - val_mae: 1.0596\n",
      "Epoch 411/565\n",
      "1/1 [==============================] - 0s 145ms/step - loss: 0.8401 - mae: 0.6246 - val_loss: 1.3799 - val_mae: 1.0577\n",
      "Epoch 412/565\n",
      "1/1 [==============================] - 0s 145ms/step - loss: 0.8806 - mae: 0.6518 - val_loss: 1.3749 - val_mae: 1.0569\n",
      "Epoch 413/565\n",
      "1/1 [==============================] - 0s 144ms/step - loss: 0.7965 - mae: 0.5682 - val_loss: 1.3716 - val_mae: 1.0566\n",
      "Epoch 414/565\n",
      "1/1 [==============================] - 0s 158ms/step - loss: 0.8286 - mae: 0.6144 - val_loss: 1.3600 - val_mae: 1.0545\n",
      "Epoch 415/565\n",
      "1/1 [==============================] - 0s 162ms/step - loss: 1.1446 - mae: 0.7031 - val_loss: 1.3492 - val_mae: 1.0526\n",
      "Epoch 416/565\n",
      "1/1 [==============================] - 0s 138ms/step - loss: 0.7878 - mae: 0.6408 - val_loss: 1.3329 - val_mae: 1.0492\n",
      "Epoch 417/565\n",
      "1/1 [==============================] - 0s 136ms/step - loss: 0.8115 - mae: 0.6741 - val_loss: 1.3196 - val_mae: 1.0465\n",
      "Epoch 418/565\n",
      "1/1 [==============================] - 0s 152ms/step - loss: 0.9031 - mae: 0.6758 - val_loss: 1.3031 - val_mae: 1.0427\n",
      "Epoch 419/565\n",
      "1/1 [==============================] - 0s 145ms/step - loss: 0.8181 - mae: 0.6088 - val_loss: 1.2912 - val_mae: 1.0400\n",
      "Epoch 420/565\n",
      "1/1 [==============================] - 0s 145ms/step - loss: 0.9278 - mae: 0.6403 - val_loss: 1.2850 - val_mae: 1.0386\n",
      "Epoch 421/565\n",
      "1/1 [==============================] - 0s 144ms/step - loss: 1.1019 - mae: 0.6875 - val_loss: 1.2819 - val_mae: 1.0380\n",
      "Epoch 422/565\n",
      "1/1 [==============================] - 0s 143ms/step - loss: 0.8920 - mae: 0.6656 - val_loss: 1.2844 - val_mae: 1.0389\n",
      "Epoch 423/565\n",
      "1/1 [==============================] - 0s 144ms/step - loss: 0.8811 - mae: 0.6091 - val_loss: 1.2897 - val_mae: 1.0404\n",
      "Epoch 424/565\n",
      "1/1 [==============================] - 0s 152ms/step - loss: 1.2682 - mae: 0.7952 - val_loss: 1.2930 - val_mae: 1.0409\n",
      "Epoch 425/565\n",
      "1/1 [==============================] - 0s 155ms/step - loss: 0.7368 - mae: 0.6215 - val_loss: 1.2962 - val_mae: 1.0411\n",
      "Epoch 426/565\n",
      "1/1 [==============================] - 0s 152ms/step - loss: 0.6685 - mae: 0.5462 - val_loss: 1.2968 - val_mae: 1.0403\n",
      "Epoch 427/565\n",
      "1/1 [==============================] - 0s 137ms/step - loss: 0.6246 - mae: 0.5654 - val_loss: 1.2999 - val_mae: 1.0405\n",
      "Epoch 428/565\n",
      "1/1 [==============================] - 0s 145ms/step - loss: 0.6321 - mae: 0.5967 - val_loss: 1.3009 - val_mae: 1.0400\n",
      "Epoch 429/565\n",
      "1/1 [==============================] - 0s 150ms/step - loss: 0.7667 - mae: 0.6048 - val_loss: 1.3052 - val_mae: 1.0403\n",
      "Epoch 430/565\n",
      "1/1 [==============================] - 0s 144ms/step - loss: 1.3876 - mae: 0.7407 - val_loss: 1.3090 - val_mae: 1.0406\n",
      "Epoch 431/565\n",
      "1/1 [==============================] - 0s 160ms/step - loss: 1.1258 - mae: 0.7441 - val_loss: 1.3132 - val_mae: 1.0414\n",
      "Epoch 432/565\n",
      "1/1 [==============================] - 0s 144ms/step - loss: 0.5379 - mae: 0.5225 - val_loss: 1.3097 - val_mae: 1.0402\n",
      "Epoch 433/565\n",
      "1/1 [==============================] - 0s 144ms/step - loss: 1.0904 - mae: 0.7039 - val_loss: 1.3108 - val_mae: 1.0401\n",
      "Epoch 434/565\n",
      "1/1 [==============================] - 0s 137ms/step - loss: 0.7956 - mae: 0.5886 - val_loss: 1.3054 - val_mae: 1.0384\n",
      "Epoch 435/565\n",
      "1/1 [==============================] - 0s 187ms/step - loss: 1.0217 - mae: 0.6882 - val_loss: 1.3025 - val_mae: 1.0373\n",
      "Epoch 436/565\n",
      "1/1 [==============================] - 0s 157ms/step - loss: 0.8039 - mae: 0.6763 - val_loss: 1.3083 - val_mae: 1.0383\n",
      "Epoch 437/565\n",
      "1/1 [==============================] - 0s 144ms/step - loss: 1.5815 - mae: 0.8248 - val_loss: 1.3152 - val_mae: 1.0396\n",
      "Epoch 438/565\n",
      "1/1 [==============================] - 0s 152ms/step - loss: 1.1002 - mae: 0.7352 - val_loss: 1.3211 - val_mae: 1.0409\n",
      "Epoch 439/565\n",
      "1/1 [==============================] - 0s 152ms/step - loss: 0.5866 - mae: 0.5788 - val_loss: 1.3217 - val_mae: 1.0412\n",
      "Epoch 440/565\n",
      "1/1 [==============================] - 0s 153ms/step - loss: 0.7806 - mae: 0.6678 - val_loss: 1.3209 - val_mae: 1.0405\n",
      "Epoch 441/565\n",
      "1/1 [==============================] - 0s 136ms/step - loss: 1.0620 - mae: 0.7072 - val_loss: 1.3200 - val_mae: 1.0398\n",
      "Epoch 442/565\n",
      "1/1 [==============================] - 0s 153ms/step - loss: 1.0283 - mae: 0.7029 - val_loss: 1.3175 - val_mae: 1.0388\n",
      "Epoch 443/565\n",
      "1/1 [==============================] - 0s 153ms/step - loss: 0.7585 - mae: 0.5825 - val_loss: 1.3106 - val_mae: 1.0369\n",
      "Epoch 444/565\n",
      "1/1 [==============================] - 0s 144ms/step - loss: 0.8559 - mae: 0.6319 - val_loss: 1.3052 - val_mae: 1.0353\n",
      "Epoch 445/565\n",
      "1/1 [==============================] - 0s 145ms/step - loss: 0.9281 - mae: 0.6137 - val_loss: 1.3018 - val_mae: 1.0341\n",
      "Epoch 446/565\n",
      "1/1 [==============================] - 0s 144ms/step - loss: 0.7688 - mae: 0.6482 - val_loss: 1.2982 - val_mae: 1.0331\n",
      "Epoch 447/565\n",
      "1/1 [==============================] - 0s 136ms/step - loss: 1.3167 - mae: 0.7652 - val_loss: 1.2933 - val_mae: 1.0318\n",
      "Epoch 448/565\n",
      "1/1 [==============================] - 0s 144ms/step - loss: 0.5950 - mae: 0.5729 - val_loss: 1.2840 - val_mae: 1.0292\n",
      "Epoch 449/565\n",
      "1/1 [==============================] - 0s 142ms/step - loss: 0.4869 - mae: 0.5182 - val_loss: 1.2720 - val_mae: 1.0258\n",
      "Epoch 450/565\n",
      "1/1 [==============================] - 0s 141ms/step - loss: 0.7315 - mae: 0.5870 - val_loss: 1.2627 - val_mae: 1.0232\n",
      "Epoch 451/565\n",
      "1/1 [==============================] - 0s 152ms/step - loss: 0.9079 - mae: 0.6299 - val_loss: 1.2553 - val_mae: 1.0211\n",
      "Epoch 452/565\n",
      "1/1 [==============================] - 0s 152ms/step - loss: 1.0521 - mae: 0.6874 - val_loss: 1.2516 - val_mae: 1.0202\n",
      "Epoch 453/565\n",
      "1/1 [==============================] - 0s 144ms/step - loss: 0.6663 - mae: 0.5880 - val_loss: 1.2516 - val_mae: 1.0202\n",
      "Epoch 454/565\n",
      "1/1 [==============================] - 0s 137ms/step - loss: 0.9044 - mae: 0.6647 - val_loss: 1.2534 - val_mae: 1.0207\n",
      "Epoch 455/565\n",
      "1/1 [==============================] - 0s 136ms/step - loss: 0.8414 - mae: 0.6261 - val_loss: 1.2564 - val_mae: 1.0217\n",
      "Epoch 456/565\n",
      "1/1 [==============================] - 0s 144ms/step - loss: 1.0310 - mae: 0.7532 - val_loss: 1.2661 - val_mae: 1.0244\n",
      "Epoch 457/565\n",
      "1/1 [==============================] - 0s 155ms/step - loss: 0.8907 - mae: 0.6945 - val_loss: 1.2729 - val_mae: 1.0259\n",
      "Epoch 458/565\n",
      "1/1 [==============================] - 0s 144ms/step - loss: 1.0089 - mae: 0.6023 - val_loss: 1.2761 - val_mae: 1.0265\n",
      "Epoch 459/565\n",
      "1/1 [==============================] - 0s 144ms/step - loss: 1.0139 - mae: 0.6917 - val_loss: 1.2776 - val_mae: 1.0266\n",
      "Epoch 460/565\n",
      "1/1 [==============================] - 0s 139ms/step - loss: 1.0252 - mae: 0.6631 - val_loss: 1.2828 - val_mae: 1.0277\n",
      "Epoch 461/565\n",
      "1/1 [==============================] - 0s 144ms/step - loss: 1.0018 - mae: 0.7039 - val_loss: 1.2976 - val_mae: 1.0311\n",
      "Epoch 462/565\n",
      "1/1 [==============================] - 0s 153ms/step - loss: 1.2330 - mae: 0.7031 - val_loss: 1.3201 - val_mae: 1.0367\n",
      "Epoch 463/565\n",
      "1/1 [==============================] - 0s 147ms/step - loss: 1.1789 - mae: 0.6924 - val_loss: 1.3396 - val_mae: 1.0413\n",
      "Epoch 464/565\n",
      "1/1 [==============================] - 0s 154ms/step - loss: 0.9657 - mae: 0.6194 - val_loss: 1.3514 - val_mae: 1.0441\n",
      "Epoch 465/565\n",
      "1/1 [==============================] - 0s 144ms/step - loss: 0.5765 - mae: 0.5188 - val_loss: 1.3626 - val_mae: 1.0467\n",
      "Epoch 466/565\n",
      "1/1 [==============================] - 0s 153ms/step - loss: 0.7442 - mae: 0.5845 - val_loss: 1.3678 - val_mae: 1.0477\n",
      "Epoch 467/565\n",
      "1/1 [==============================] - 0s 160ms/step - loss: 0.7248 - mae: 0.6230 - val_loss: 1.3649 - val_mae: 1.0469\n",
      "Epoch 468/565\n",
      "1/1 [==============================] - 0s 152ms/step - loss: 0.9782 - mae: 0.6403 - val_loss: 1.3613 - val_mae: 1.0461\n",
      "Epoch 469/565\n",
      "1/1 [==============================] - 0s 147ms/step - loss: 0.6224 - mae: 0.5994 - val_loss: 1.3513 - val_mae: 1.0437\n",
      "Epoch 470/565\n",
      "1/1 [==============================] - 0s 145ms/step - loss: 0.8368 - mae: 0.6224 - val_loss: 1.3396 - val_mae: 1.0411\n",
      "Epoch 471/565\n",
      "1/1 [==============================] - 0s 154ms/step - loss: 0.6907 - mae: 0.5919 - val_loss: 1.3293 - val_mae: 1.0390\n",
      "Epoch 472/565\n",
      "1/1 [==============================] - 0s 162ms/step - loss: 0.6273 - mae: 0.5267 - val_loss: 1.3153 - val_mae: 1.0359\n",
      "Epoch 473/565\n",
      "1/1 [==============================] - 0s 153ms/step - loss: 0.8370 - mae: 0.6114 - val_loss: 1.3082 - val_mae: 1.0347\n",
      "Epoch 474/565\n",
      "1/1 [==============================] - 0s 147ms/step - loss: 0.6099 - mae: 0.5434 - val_loss: 1.2988 - val_mae: 1.0329\n",
      "Epoch 475/565\n",
      "1/1 [==============================] - 0s 153ms/step - loss: 1.0123 - mae: 0.6564 - val_loss: 1.2919 - val_mae: 1.0316\n",
      "Epoch 476/565\n",
      "1/1 [==============================] - 0s 153ms/step - loss: 0.6422 - mae: 0.5790 - val_loss: 1.2839 - val_mae: 1.0298\n",
      "Epoch 477/565\n",
      "1/1 [==============================] - 0s 155ms/step - loss: 0.5731 - mae: 0.5101 - val_loss: 1.2697 - val_mae: 1.0261\n",
      "Epoch 478/565\n",
      "1/1 [==============================] - 0s 145ms/step - loss: 1.3393 - mae: 0.7345 - val_loss: 1.2530 - val_mae: 1.0216\n",
      "Epoch 479/565\n",
      "1/1 [==============================] - 0s 154ms/step - loss: 0.7316 - mae: 0.6200 - val_loss: 1.2379 - val_mae: 1.0176\n",
      "Epoch 480/565\n",
      "1/1 [==============================] - 0s 149ms/step - loss: 1.1551 - mae: 0.7343 - val_loss: 1.2291 - val_mae: 1.0151\n",
      "Epoch 481/565\n",
      "1/1 [==============================] - 0s 146ms/step - loss: 0.8769 - mae: 0.5924 - val_loss: 1.2192 - val_mae: 1.0123\n",
      "Epoch 482/565\n",
      "1/1 [==============================] - 0s 153ms/step - loss: 0.7701 - mae: 0.6390 - val_loss: 1.2053 - val_mae: 1.0083\n",
      "Epoch 483/565\n",
      "1/1 [==============================] - 0s 147ms/step - loss: 0.9440 - mae: 0.6485 - val_loss: 1.1834 - val_mae: 1.0017\n",
      "Epoch 484/565\n",
      "1/1 [==============================] - 0s 145ms/step - loss: 1.2176 - mae: 0.7548 - val_loss: 1.1677 - val_mae: 0.9967\n",
      "Epoch 485/565\n",
      "1/1 [==============================] - 0s 154ms/step - loss: 1.2770 - mae: 0.7626 - val_loss: 1.1497 - val_mae: 0.9912\n",
      "Epoch 486/565\n",
      "1/1 [==============================] - 0s 149ms/step - loss: 0.8166 - mae: 0.6471 - val_loss: 1.1346 - val_mae: 0.9861\n",
      "Epoch 487/565\n",
      "1/1 [==============================] - 0s 150ms/step - loss: 0.6768 - mae: 0.5645 - val_loss: 1.1148 - val_mae: 0.9792\n",
      "Epoch 488/565\n",
      "1/1 [==============================] - 0s 152ms/step - loss: 0.8179 - mae: 0.6464 - val_loss: 1.0972 - val_mae: 0.9730\n",
      "Epoch 489/565\n",
      "1/1 [==============================] - 0s 155ms/step - loss: 1.1241 - mae: 0.7076 - val_loss: 1.0868 - val_mae: 0.9692\n",
      "Epoch 490/565\n",
      "1/1 [==============================] - 0s 150ms/step - loss: 0.6386 - mae: 0.5621 - val_loss: 1.0769 - val_mae: 0.9655\n",
      "Epoch 491/565\n",
      "1/1 [==============================] - 0s 145ms/step - loss: 1.0662 - mae: 0.6879 - val_loss: 1.0717 - val_mae: 0.9633\n",
      "Epoch 492/565\n",
      "1/1 [==============================] - 0s 146ms/step - loss: 1.0315 - mae: 0.7189 - val_loss: 1.0696 - val_mae: 0.9622\n",
      "Epoch 493/565\n",
      "1/1 [==============================] - 0s 151ms/step - loss: 1.0649 - mae: 0.6716 - val_loss: 1.0695 - val_mae: 0.9620\n",
      "Epoch 494/565\n",
      "1/1 [==============================] - 0s 151ms/step - loss: 0.8731 - mae: 0.6437 - val_loss: 1.0719 - val_mae: 0.9627\n",
      "Epoch 495/565\n",
      "1/1 [==============================] - 0s 145ms/step - loss: 0.6704 - mae: 0.5979 - val_loss: 1.0744 - val_mae: 0.9637\n",
      "Epoch 496/565\n",
      "1/1 [==============================] - 0s 162ms/step - loss: 1.1019 - mae: 0.7088 - val_loss: 1.0752 - val_mae: 0.9642\n",
      "Epoch 497/565\n",
      "1/1 [==============================] - 0s 146ms/step - loss: 0.9440 - mae: 0.6457 - val_loss: 1.0735 - val_mae: 0.9637\n",
      "Epoch 498/565\n",
      "1/1 [==============================] - 0s 154ms/step - loss: 0.7884 - mae: 0.6018 - val_loss: 1.0688 - val_mae: 0.9622\n",
      "Epoch 499/565\n",
      "1/1 [==============================] - 0s 155ms/step - loss: 1.2042 - mae: 0.6747 - val_loss: 1.0608 - val_mae: 0.9597\n",
      "Epoch 500/565\n",
      "1/1 [==============================] - 0s 152ms/step - loss: 1.0735 - mae: 0.7144 - val_loss: 1.0454 - val_mae: 0.9544\n",
      "Epoch 501/565\n",
      "1/1 [==============================] - 0s 156ms/step - loss: 1.3763 - mae: 0.7287 - val_loss: 1.0293 - val_mae: 0.9490\n",
      "Epoch 502/565\n",
      "1/1 [==============================] - 0s 144ms/step - loss: 1.0064 - mae: 0.6484 - val_loss: 1.0165 - val_mae: 0.9444\n",
      "Epoch 503/565\n",
      "1/1 [==============================] - 0s 144ms/step - loss: 0.7843 - mae: 0.6372 - val_loss: 1.0067 - val_mae: 0.9409\n",
      "Epoch 504/565\n",
      "1/1 [==============================] - 0s 147ms/step - loss: 0.5250 - mae: 0.5160 - val_loss: 0.9929 - val_mae: 0.9360\n",
      "Epoch 505/565\n",
      "1/1 [==============================] - 0s 152ms/step - loss: 0.3995 - mae: 0.4542 - val_loss: 0.9756 - val_mae: 0.9293\n",
      "Epoch 506/565\n",
      "1/1 [==============================] - 0s 144ms/step - loss: 1.1733 - mae: 0.7263 - val_loss: 0.9594 - val_mae: 0.9231\n",
      "Epoch 507/565\n",
      "1/1 [==============================] - 0s 128ms/step - loss: 1.0510 - mae: 0.6996 - val_loss: 0.9456 - val_mae: 0.9177\n",
      "Epoch 508/565\n",
      "1/1 [==============================] - 0s 144ms/step - loss: 0.8691 - mae: 0.6345 - val_loss: 0.9351 - val_mae: 0.9136\n",
      "Epoch 509/565\n",
      "1/1 [==============================] - 0s 149ms/step - loss: 0.9901 - mae: 0.6962 - val_loss: 0.9287 - val_mae: 0.9112\n",
      "Epoch 510/565\n",
      "1/1 [==============================] - 0s 136ms/step - loss: 0.9519 - mae: 0.6121 - val_loss: 0.9229 - val_mae: 0.9088\n",
      "Epoch 511/565\n",
      "1/1 [==============================] - 0s 144ms/step - loss: 0.8366 - mae: 0.6561 - val_loss: 0.9201 - val_mae: 0.9077\n",
      "Epoch 512/565\n",
      "1/1 [==============================] - 0s 153ms/step - loss: 1.1911 - mae: 0.6993 - val_loss: 0.9154 - val_mae: 0.9056\n",
      "Epoch 513/565\n",
      "1/1 [==============================] - 0s 139ms/step - loss: 1.0875 - mae: 0.7210 - val_loss: 0.9147 - val_mae: 0.9049\n",
      "Epoch 514/565\n",
      "1/1 [==============================] - 0s 144ms/step - loss: 0.7927 - mae: 0.5899 - val_loss: 0.9154 - val_mae: 0.9050\n",
      "Epoch 515/565\n",
      "1/1 [==============================] - 0s 145ms/step - loss: 0.5816 - mae: 0.5936 - val_loss: 0.9155 - val_mae: 0.9047\n",
      "Epoch 516/565\n",
      "1/1 [==============================] - 0s 136ms/step - loss: 0.8840 - mae: 0.5954 - val_loss: 0.9152 - val_mae: 0.9039\n",
      "Epoch 517/565\n",
      "1/1 [==============================] - 0s 136ms/step - loss: 0.8474 - mae: 0.6724 - val_loss: 0.9185 - val_mae: 0.9051\n",
      "Epoch 518/565\n",
      "1/1 [==============================] - 0s 148ms/step - loss: 1.3742 - mae: 0.7578 - val_loss: 0.9195 - val_mae: 0.9046\n",
      "Epoch 519/565\n",
      "1/1 [==============================] - 0s 138ms/step - loss: 0.9026 - mae: 0.6029 - val_loss: 0.9181 - val_mae: 0.9032\n",
      "Epoch 520/565\n",
      "1/1 [==============================] - 0s 144ms/step - loss: 1.0782 - mae: 0.7218 - val_loss: 0.9133 - val_mae: 0.8999\n",
      "Epoch 521/565\n",
      "1/1 [==============================] - 0s 153ms/step - loss: 1.1857 - mae: 0.7510 - val_loss: 0.9095 - val_mae: 0.8975\n",
      "Epoch 522/565\n",
      "1/1 [==============================] - 0s 144ms/step - loss: 0.9157 - mae: 0.6179 - val_loss: 0.9052 - val_mae: 0.8948\n",
      "Epoch 523/565\n",
      "1/1 [==============================] - 0s 144ms/step - loss: 0.6118 - mae: 0.5361 - val_loss: 0.8999 - val_mae: 0.8918\n",
      "Epoch 524/565\n",
      "1/1 [==============================] - 0s 152ms/step - loss: 0.5094 - mae: 0.5341 - val_loss: 0.8914 - val_mae: 0.8871\n",
      "Epoch 525/565\n",
      "1/1 [==============================] - 0s 152ms/step - loss: 0.8322 - mae: 0.6437 - val_loss: 0.8819 - val_mae: 0.8823\n",
      "Epoch 526/565\n",
      "1/1 [==============================] - 0s 144ms/step - loss: 0.9959 - mae: 0.6907 - val_loss: 0.8735 - val_mae: 0.8781\n",
      "Epoch 527/565\n",
      "1/1 [==============================] - 0s 136ms/step - loss: 1.0081 - mae: 0.6744 - val_loss: 0.8646 - val_mae: 0.8736\n",
      "Epoch 528/565\n",
      "1/1 [==============================] - 0s 150ms/step - loss: 0.7623 - mae: 0.6076 - val_loss: 0.8585 - val_mae: 0.8701\n",
      "Epoch 529/565\n",
      "1/1 [==============================] - 0s 144ms/step - loss: 1.2744 - mae: 0.7411 - val_loss: 0.8498 - val_mae: 0.8646\n",
      "Epoch 530/565\n",
      "1/1 [==============================] - 0s 144ms/step - loss: 1.0564 - mae: 0.7121 - val_loss: 0.8424 - val_mae: 0.8598\n",
      "Epoch 531/565\n",
      "1/1 [==============================] - 0s 154ms/step - loss: 0.8676 - mae: 0.6036 - val_loss: 0.8328 - val_mae: 0.8533\n",
      "Epoch 532/565\n",
      "1/1 [==============================] - 0s 142ms/step - loss: 0.8809 - mae: 0.6496 - val_loss: 0.8209 - val_mae: 0.8450\n",
      "Epoch 533/565\n",
      "1/1 [==============================] - 0s 144ms/step - loss: 0.9150 - mae: 0.6241 - val_loss: 0.8116 - val_mae: 0.8383\n",
      "Epoch 534/565\n",
      "1/1 [==============================] - 0s 144ms/step - loss: 0.8606 - mae: 0.6197 - val_loss: 0.8037 - val_mae: 0.8327\n",
      "Epoch 535/565\n",
      "1/1 [==============================] - 0s 146ms/step - loss: 0.5882 - mae: 0.5611 - val_loss: 0.7937 - val_mae: 0.8251\n",
      "Epoch 536/565\n",
      "1/1 [==============================] - 0s 174ms/step - loss: 0.6709 - mae: 0.5824 - val_loss: 0.7865 - val_mae: 0.8195\n",
      "Epoch 537/565\n",
      "1/1 [==============================] - 0s 153ms/step - loss: 0.9523 - mae: 0.7006 - val_loss: 0.7835 - val_mae: 0.8176\n",
      "Epoch 538/565\n",
      "1/1 [==============================] - 0s 143ms/step - loss: 0.7523 - mae: 0.5980 - val_loss: 0.7816 - val_mae: 0.8165\n",
      "Epoch 539/565\n",
      "1/1 [==============================] - 0s 144ms/step - loss: 0.8180 - mae: 0.6216 - val_loss: 0.7828 - val_mae: 0.8176\n",
      "Epoch 540/565\n",
      "1/1 [==============================] - 0s 145ms/step - loss: 1.0565 - mae: 0.6492 - val_loss: 0.7855 - val_mae: 0.8200\n",
      "Epoch 541/565\n",
      "1/1 [==============================] - 0s 143ms/step - loss: 0.6299 - mae: 0.5639 - val_loss: 0.7905 - val_mae: 0.8241\n",
      "Epoch 542/565\n",
      "1/1 [==============================] - 0s 144ms/step - loss: 0.7184 - mae: 0.6259 - val_loss: 0.7947 - val_mae: 0.8276\n",
      "Epoch 543/565\n",
      "1/1 [==============================] - 0s 136ms/step - loss: 0.6764 - mae: 0.6127 - val_loss: 0.7972 - val_mae: 0.8297\n",
      "Epoch 544/565\n",
      "1/1 [==============================] - 0s 136ms/step - loss: 0.9410 - mae: 0.6045 - val_loss: 0.7966 - val_mae: 0.8296\n",
      "Epoch 545/565\n",
      "1/1 [==============================] - 0s 142ms/step - loss: 0.6384 - mae: 0.5645 - val_loss: 0.7969 - val_mae: 0.8301\n",
      "Epoch 546/565\n",
      "1/1 [==============================] - 0s 142ms/step - loss: 1.1758 - mae: 0.6981 - val_loss: 0.7967 - val_mae: 0.8299\n",
      "Epoch 547/565\n",
      "1/1 [==============================] - 0s 152ms/step - loss: 0.8906 - mae: 0.6142 - val_loss: 0.7976 - val_mae: 0.8299\n",
      "Epoch 548/565\n",
      "1/1 [==============================] - 0s 142ms/step - loss: 0.9926 - mae: 0.6359 - val_loss: 0.8019 - val_mae: 0.8333\n",
      "Epoch 549/565\n",
      "1/1 [==============================] - 0s 144ms/step - loss: 0.5644 - mae: 0.5485 - val_loss: 0.8003 - val_mae: 0.8310\n",
      "Epoch 550/565\n",
      "1/1 [==============================] - 0s 144ms/step - loss: 0.6802 - mae: 0.6127 - val_loss: 0.8007 - val_mae: 0.8304\n",
      "Epoch 551/565\n",
      "1/1 [==============================] - 0s 144ms/step - loss: 0.8327 - mae: 0.5763 - val_loss: 0.7992 - val_mae: 0.8282\n",
      "Epoch 552/565\n",
      "1/1 [==============================] - 0s 136ms/step - loss: 0.8321 - mae: 0.6143 - val_loss: 0.7982 - val_mae: 0.8269\n",
      "Epoch 553/565\n",
      "1/1 [==============================] - 0s 145ms/step - loss: 0.7952 - mae: 0.6261 - val_loss: 0.7959 - val_mae: 0.8248\n",
      "Epoch 554/565\n",
      "1/1 [==============================] - 0s 137ms/step - loss: 1.0129 - mae: 0.6729 - val_loss: 0.7965 - val_mae: 0.8251\n",
      "Epoch 555/565\n",
      "1/1 [==============================] - 0s 149ms/step - loss: 0.8481 - mae: 0.6078 - val_loss: 0.7941 - val_mae: 0.8222\n",
      "Epoch 556/565\n",
      "1/1 [==============================] - 0s 153ms/step - loss: 0.8603 - mae: 0.6509 - val_loss: 0.7922 - val_mae: 0.8197\n",
      "Epoch 557/565\n",
      "1/1 [==============================] - 0s 145ms/step - loss: 0.7050 - mae: 0.5696 - val_loss: 0.7899 - val_mae: 0.8174\n",
      "Epoch 558/565\n",
      "1/1 [==============================] - 0s 153ms/step - loss: 0.9991 - mae: 0.7115 - val_loss: 0.7880 - val_mae: 0.8156\n",
      "Epoch 559/565\n",
      "1/1 [==============================] - 0s 136ms/step - loss: 0.8713 - mae: 0.6986 - val_loss: 0.7872 - val_mae: 0.8159\n",
      "Epoch 560/565\n",
      "1/1 [==============================] - 0s 136ms/step - loss: 0.8761 - mae: 0.6234 - val_loss: 0.7849 - val_mae: 0.8147\n",
      "Epoch 561/565\n",
      "1/1 [==============================] - 0s 136ms/step - loss: 0.6644 - mae: 0.6139 - val_loss: 0.7834 - val_mae: 0.8135\n",
      "Epoch 562/565\n",
      "1/1 [==============================] - 0s 153ms/step - loss: 0.9748 - mae: 0.6560 - val_loss: 0.7813 - val_mae: 0.8119\n",
      "Epoch 563/565\n",
      "1/1 [==============================] - 0s 152ms/step - loss: 0.9835 - mae: 0.6643 - val_loss: 0.7799 - val_mae: 0.8100\n",
      "Epoch 564/565\n",
      "1/1 [==============================] - 0s 154ms/step - loss: 0.7105 - mae: 0.5494 - val_loss: 0.7762 - val_mae: 0.8068\n",
      "Epoch 565/565\n",
      "1/1 [==============================] - 0s 153ms/step - loss: 0.7135 - mae: 0.5870 - val_loss: 0.7737 - val_mae: 0.8052\n"
     ]
    }
   ],
   "source": [
    "history = train(X_train, y_train ,X_val, y_val,1,0)"
   ]
  },
  {
   "cell_type": "code",
   "execution_count": 18,
   "metadata": {},
   "outputs": [
    {
     "data": {
      "text/plain": [
       "<matplotlib.legend.Legend at 0x2d3ee0b7730>"
      ]
     },
     "execution_count": 18,
     "metadata": {},
     "output_type": "execute_result"
    },
    {
     "data": {
      "image/png": "[encoded data removed]",
      "text/plain": [
       "<Figure size 640x480 with 1 Axes>"
      ]
     },
     "metadata": {},
     "output_type": "display_data"
    }
   ],
   "source": [
    "plt.plot(history.history['loss'])\n",
    "plt.plot(history.history['val_loss'])\n",
    "plt.title('MSE Loss')\n",
    "plt.ylabel('loss')\n",
    "plt.xlabel('epoch')\n",
    "plt.legend(['train', 'val'], loc='upper right')"
   ]
  },
  {
   "cell_type": "code",
   "execution_count": 19,
   "metadata": {},
   "outputs": [
    {
     "data": {
      "image/png": "[encoded data removed]",
      "text/plain": [
       "<Figure size 640x480 with 1 Axes>"
      ]
     },
     "metadata": {},
     "output_type": "display_data"
    }
   ],
   "source": [
    "plt.plot(history.history['mae'])\n",
    "plt.plot(history.history['val_mae'])\n",
    "plt.title('Mean absaloute error score')\n",
    "plt.ylabel('MAE')\n",
    "plt.xlabel('epoch')\n",
    "plt.legend(['train', 'val'], loc='lower right')\n",
    "plt.show()"
   ]
  },
  {
   "attachments": {},
   "cell_type": "markdown",
   "metadata": {},
   "source": [
    "## Fabrication experiments"
   ]
  },
  {
   "cell_type": "code",
   "execution_count": 21,
   "metadata": {},
   "outputs": [],
   "source": [
    "PATH_BASE = 'C:/Users/Assaf/Desktop/Thesis-refrences/Code/fabricated_data/tables/fabricated_data_base.csv'\n",
    "PATH_EXCTR = 'C:/Users/Assaf/Desktop/Thesis-refrences/Code/fabricated_data/tables/fabricated_data_extracted_p.csv'\n",
    "PATH_SIMPLE = 'C:/Users/Assaf/Desktop/Thesis-refrences/Code/fabricated_data/tables/fabricated_data_simple_p.csv'\n",
    "PATH_COMPX = 'C:/Users/Assaf/Desktop/Thesis-refrences/Code/fabricated_data/tables/fabricated_data_advance_p.csv'\n",
    "PATH_SEM = 'C:/Users/Assaf/Desktop/Thesis-refrences/Code/fabricated_data/tables/fabricated_data_semantic.csv'\n",
    "PATH_TRI_SEM = 'C:/Users/Assaf/Desktop/Thesis-refrences/Code/fabricated_data/tables/tri_data_semantic.csv'\n",
    "PATH_QUAD_TW_SEM = 'C:/Users/Assaf/Desktop/Thesis-refrences/Code/fabricated_data/tables/quad2_data_semantic.csv'\n",
    "PATH_QUAUD_TH_SEM = 'C:/Users/Assaf/Desktop/Thesis-refrences/Code/fabricated_data/tables/quad3_data_semantic.csv'\n",
    "\n",
    "# Param list for each data set comprised of {dataset name , path to csv , learning rate , batch size , number of nodes}\n",
    "\n",
    "param_list = {'Simple':[PATH_SIMPLE,0.00027 , 64 , NODES ],\n",
    "              'Extracted':[PATH_EXCTR , 0.00046 ,64,NODES],\n",
    "              'Complex':[PATH_COMPX,0.00024,64,NODES],\n",
    "              'Semantic_tri':[PATH_TRI_SEM,0.00015 , 64 , NODES ],\n",
    "              'Semantic_quad3':[PATH_QUAUD_TH_SEM,0.0002 , 64 , NODES ],\n",
    "              'Semantic_quad2':[PATH_QUAD_TW_SEM,0.0002 , 64 , 600 ]}\n",
    "\n",
    "df_fab = pd.read_csv(PATH_BASE,delimiter=\",\").iloc[:,:-1]\n",
    "history_dict = {} \n"
   ]
  },
  {
   "attachments": {},
   "cell_type": "markdown",
   "metadata": {},
   "source": [
    "### Simple pattern training "
   ]
  },
  {
   "cell_type": "code",
   "execution_count": 22,
   "metadata": {},
   "outputs": [
    {
     "name": "stdout",
     "output_type": "stream",
     "text": [
      "The training dataset shape 255 and validation shape 85 .\n",
      "The testing dataset has 60 records.\n",
      "369    1.991847\n",
      "274    0.129512\n",
      "105    0.366869\n",
      "211    4.488592\n",
      "358    1.732435\n",
      "         ...   \n",
      "249    1.796617\n",
      "145    3.880229\n",
      "377    1.435637\n",
      "43     3.811789\n",
      "286    2.653224\n",
      "Name: CTR, Length: 255, dtype: float64\n"
     ]
    }
   ],
   "source": [
    "# Read CTR for each pattern\n",
    "df_simple_ctr = pd.read_csv(param_list['Simple'][0],delimiter=\",\")\n",
    "# Join fabricated  dataframe with pattern CTR\n",
    "df_simple_merged = pd.concat([df_fab,df_simple_ctr],axis=1)\n",
    "# Pre-processing and dictionary extraction\n",
    "df_simple_merged ,simple_wrd_dict =  df_conversion(df_simple_merged)\n",
    "# test train split \n",
    "X_simple_train, X_simple_test,X_simple_val,y_simple_train, y_simple_val ,y_simple_train, y_simple_test = data_splitting(df_simple_merged)\n",
    "# # Padding\n",
    "print(y_simple_train)\n",
    "X_simple_train = onehot_padding(X_simple_train,simple_wrd_dict)\n",
    "X_simple_val = onehot_padding(X_simple_val,simple_wrd_dict)\n",
    "embedding_sizes_simple = {x : len(simple_wrd_dict[x]) for x in simple_wrd_dict}\n",
    "# Create model\n",
    "nn = create_model(X_simple_train,embedding_sizes_simple,param_list['Simple'][3])   \n",
    "nn.compile(loss= 'mse', optimizer=tf.keras.optimizers.Adam(learning_rate=param_list['Simple'][1]), metrics=['mae'])\n",
    "# Training the model \n",
    "history_dict ['Simple'] = train(X_simple_train, y_simple_train ,X_simple_val, y_simple_val,0,param_list['Simple'][2])"
   ]
  },
  {
   "attachments": {},
   "cell_type": "markdown",
   "metadata": {},
   "source": [
    "### Extracted pattern training "
   ]
  },
  {
   "cell_type": "code",
   "execution_count": 23,
   "metadata": {},
   "outputs": [
    {
     "name": "stdout",
     "output_type": "stream",
     "text": [
      "The training dataset shape 255 and validation shape 85 .\n",
      "The testing dataset has 60 records.\n"
     ]
    }
   ],
   "source": [
    "# Read CTR for each pattern\n",
    "df_extr_ctr = pd.read_csv(param_list['Extracted'][0],delimiter=\",\")\n",
    "# Join fabricated  dataframe with pattern CTR\n",
    "df_extr_merged = pd.concat([df_fab,df_extr_ctr],axis=1)\n",
    "# Pre-processing and dictionary extraction\n",
    "df_extr_merged ,extr_wrd_dict =  df_conversion(df_extr_merged)\n",
    "# test train split \n",
    "X_extr_train, X_extr_test,X_extr_val,y_extr_train, y_extr_val ,y_extr_train, y_extr_test = data_splitting(df_extr_merged)\n",
    "# Padding\n",
    "X_extr_train = onehot_padding(X_extr_train,extr_wrd_dict)\n",
    "X_extr_val = onehot_padding(X_extr_val,extr_wrd_dict)\n",
    "embedding_sizes_extr = {x : len(extr_wrd_dict[x]) for x in extr_wrd_dict}\n",
    "# Create model\n",
    "nn = create_model(X_extr_train,embedding_sizes_extr,param_list['Extracted'][3])   \n",
    "nn.compile(loss= 'mse', optimizer=tf.keras.optimizers.Adam(learning_rate=param_list['Extracted'][1]), metrics=['mae'])\n",
    "# Training the model \n",
    "history_dict ['Extracted'] = train(X_extr_train, y_extr_train ,X_extr_val, y_extr_val,0,param_list['Extracted'][2])"
   ]
  },
  {
   "attachments": {},
   "cell_type": "markdown",
   "metadata": {},
   "source": [
    "### Complex pattern training "
   ]
  },
  {
   "cell_type": "code",
   "execution_count": 24,
   "metadata": {},
   "outputs": [
    {
     "name": "stdout",
     "output_type": "stream",
     "text": [
      "The training dataset shape 255 and validation shape 85 .\n",
      "The testing dataset has 60 records.\n"
     ]
    }
   ],
   "source": [
    "# Read CTR for each pattern\n",
    "df_compl_ctr = pd.read_csv(param_list['Complex'][0],delimiter=\",\")\n",
    "# Join fabricated  dataframe with pattern CTR\n",
    "df_compl_merged = pd.concat([df_fab,df_compl_ctr],axis=1)\n",
    "# Pre-processing and dictionary complaction\n",
    "df_compl_merged ,compl_wrd_dict =  df_conversion(df_compl_merged)\n",
    "# test train split \n",
    "X_compl_train, X_compl_test,X_compl_val,y_compl_train, y_compl_val ,y_compl_train, y_compl_test = data_splitting(df_compl_merged)\n",
    "# Padding\n",
    "X_compl_train = onehot_padding(X_compl_train,compl_wrd_dict)\n",
    "X_compl_val = onehot_padding(X_compl_val,compl_wrd_dict)\n",
    "embedding_sizes_compl = {x : len(compl_wrd_dict[x]) for x in compl_wrd_dict}\n",
    "# Create model\n",
    "nn = create_model(X_compl_train,embedding_sizes_compl,param_list['Complex'][3])   \n",
    "nn.compile(loss= 'mse', optimizer=tf.keras.optimizers.Adam(learning_rate=param_list['Complex'][1]), metrics=['mae'])\n",
    "# Training the model \n",
    "history_dict ['Complex'] = train(X_compl_train, y_compl_train ,X_compl_val, y_compl_val,0,param_list['Complex'][2])"
   ]
  },
  {
   "attachments": {},
   "cell_type": "markdown",
   "metadata": {},
   "source": [
    "### One to two pattern training "
   ]
  },
  {
   "cell_type": "code",
   "execution_count": 25,
   "metadata": {},
   "outputs": [
    {
     "name": "stdout",
     "output_type": "stream",
     "text": [
      "The training dataset shape 255 and validation shape 85 .\n",
      "The testing dataset has 60 records.\n"
     ]
    }
   ],
   "source": [
    "# Read CTR for each pattern\n",
    "df_sem_one_two_ctr = pd.read_csv(param_list['Semantic_tri'][0],delimiter=\",\")\n",
    "# Join fabricated  dataframe with pattern CTR\n",
    "df_sem_one_two_merged = pd.concat([df_fab,df_sem_one_two_ctr],axis=1)\n",
    "# Pre-processing and dictionary sem_one_twoaction\n",
    "df_sem_one_two_merged ,sem_one_two_wrd_dict =  df_conversion(df_sem_one_two_merged)\n",
    "# test train split \n",
    "X_sem_one_two_train, X_sem_one_two_test,X_sem_one_two_val,y_sem_one_two_train, y_sem_one_two_val ,y_sem_one_two_train, y_sem_one_two_test = data_splitting(df_sem_one_two_merged)\n",
    "# Padding\n",
    "X_sem_one_two_train = onehot_padding(X_sem_one_two_train,sem_one_two_wrd_dict)\n",
    "X_sem_one_two_val = onehot_padding(X_sem_one_two_val,sem_one_two_wrd_dict)\n",
    "embedding_sizes_sem_one_two = {x : len(sem_one_two_wrd_dict[x]) for x in sem_one_two_wrd_dict}\n",
    "# Create model\n",
    "nn = create_model(X_sem_one_two_train,embedding_sizes_sem_one_two,param_list['Semantic_tri'][3])   \n",
    "nn.compile(loss= 'mse', optimizer=tf.keras.optimizers.Adam(learning_rate=param_list['Semantic_tri'][1]), metrics=['mae'])\n",
    "# Training the model \n",
    "history_dict ['Semantic_tri'] = train(X_sem_one_two_train, y_sem_one_two_train ,X_sem_one_two_val, y_sem_one_two_val,0,param_list['Semantic_tri'][2])"
   ]
  },
  {
   "attachments": {},
   "cell_type": "markdown",
   "metadata": {},
   "source": [
    "### One to three pattern training "
   ]
  },
  {
   "cell_type": "code",
   "execution_count": 26,
   "metadata": {},
   "outputs": [
    {
     "name": "stdout",
     "output_type": "stream",
     "text": [
      "The training dataset shape 255 and validation shape 85 .\n",
      "The testing dataset has 60 records.\n"
     ]
    }
   ],
   "source": [
    "# Read CTR for each pattern\n",
    "df_sem_one_thee_ctr = pd.read_csv(param_list['Semantic_quad3'][0],delimiter=\",\")\n",
    "# Join fabricated  dataframe with pattern CTR\n",
    "df_sem_one_thee_merged = pd.concat([df_fab,df_sem_one_thee_ctr],axis=1)\n",
    "# Pre-processing and dictionary sem_one_theeaction\n",
    "df_sem_one_thee_merged ,sem_one_thee_wrd_dict =  df_conversion(df_sem_one_thee_merged)\n",
    "# test train split \n",
    "X_sem_one_thee_train, X_sem_one_thee_test,X_sem_one_thee_val,y_sem_one_thee_train, y_sem_one_thee_val ,y_sem_one_thee_train, y_sem_one_thee_test = data_splitting(df_sem_one_thee_merged)\n",
    "# Padding\n",
    "X_sem_one_thee_train = onehot_padding(X_sem_one_thee_train,sem_one_thee_wrd_dict)\n",
    "X_sem_one_thee_val = onehot_padding(X_sem_one_thee_val,sem_one_thee_wrd_dict)\n",
    "embedding_sizes_sem_one_thee = {x : len(sem_one_thee_wrd_dict[x]) for x in sem_one_thee_wrd_dict}\n",
    "# Create model\n",
    "nn = create_model(X_sem_one_thee_train,embedding_sizes_sem_one_thee,param_list['Semantic_quad3'][3])   \n",
    "nn.compile(loss= 'mse', optimizer=tf.keras.optimizers.Adam(learning_rate=param_list['Semantic_quad3'][1]), metrics=['mae'])\n",
    "# Training the model \n",
    "history_dict ['Semantic_quad3'] = train(X_sem_one_thee_train, y_sem_one_thee_train ,X_sem_one_thee_val, y_sem_one_thee_val,0,param_list['Semantic_quad3'][2])"
   ]
  },
  {
   "attachments": {},
   "cell_type": "markdown",
   "metadata": {},
   "source": [
    "### Two to two pattern training "
   ]
  },
  {
   "cell_type": "code",
   "execution_count": 27,
   "metadata": {},
   "outputs": [
    {
     "name": "stdout",
     "output_type": "stream",
     "text": [
      "The training dataset shape 255 and validation shape 85 .\n",
      "The testing dataset has 60 records.\n"
     ]
    }
   ],
   "source": [
    "# Read CTR for each pattern\n",
    "df_sem_two_two_ctr = pd.read_csv(param_list['Semantic_quad2'][0],delimiter=\",\")\n",
    "# Join fabricated  dataframe with pattern CTR\n",
    "df_sem_two_two_merged = pd.concat([df_fab,df_sem_two_two_ctr],axis=1)\n",
    "# Pre-processing and dictionary sem_two_twoaction\n",
    "df_sem_two_two_merged ,sem_two_two_wrd_dict =  df_conversion(df_sem_two_two_merged)\n",
    "# test train split \n",
    "X_sem_two_two_train, X_sem_two_two_test,X_sem_two_two_val,y_sem_two_two_train, y_sem_two_two_val ,y_sem_two_two_train, y_sem_two_two_test = data_splitting(df_sem_two_two_merged)\n",
    "# Padding\n",
    "X_sem_two_two_train = onehot_padding(X_sem_two_two_train,sem_two_two_wrd_dict)\n",
    "X_sem_two_two_val = onehot_padding(X_sem_two_two_val,sem_two_two_wrd_dict)\n",
    "embedding_sizes_sem_two_two = {x : len(sem_two_two_wrd_dict[x]) for x in sem_two_two_wrd_dict}\n",
    "# Create model\n",
    "nn = create_model(X_sem_two_two_train,embedding_sizes_sem_two_two,param_list['Semantic_quad2'][3])   \n",
    "nn.compile(loss= 'mse', optimizer=tf.keras.optimizers.Adam(learning_rate=param_list['Semantic_quad2'][1]), metrics=['mae'])\n",
    "# Training the model \n",
    "history_dict ['Semantic_quad2'] = train(X_sem_two_two_train, y_sem_two_two_train ,X_sem_two_two_val, y_sem_two_two_val,0,param_list['Semantic_quad2'][2])"
   ]
  },
  {
   "cell_type": "code",
   "execution_count": 66,
   "metadata": {},
   "outputs": [],
   "source": [
    "def compar_plts (history_dict,params ,names):\n",
    "    fig, axs = plt.subplots(3 , 3, tight_layout=True,figsize=(10, 10))\n",
    "    for h,i,nam in zip(history_dict ,range(0,len(history_dict)),names):\n",
    "        ax = axs.flat[i]\n",
    "        ax.set_title(nam,loc = 'center',fontsize=\"15\")\n",
    "        ax.tick_params(axis='x', labelsize=12)\n",
    "        ax.tick_params(axis='y', labelsize=12)\n",
    "        for p in params:\n",
    "            ax.plot(h.history[p],label = p)\n",
    "    fig.delaxes(axs[2,1])\n",
    "    fig.delaxes(axs[2,2])\n",
    "    handles, labels = axs[0,0].get_legend_handles_labels()\n",
    "    fig.legend(labels, handles =handles,loc='lower left',fontsize=\"15\" ,bbox_to_anchor=(0.8,0.1) ,ncol=1, bbox_transform=fig.transFigure)\n",
    "    fig.supxlabel('Epochs')\n",
    "    fig.supylabel('MSE')\n",
    "    plt.show()\n"
   ]
  },
  {
   "cell_type": "code",
   "execution_count": 67,
   "metadata": {},
   "outputs": [
    {
     "name": "stderr",
     "output_type": "stream",
     "text": [
      "C:\\Users\\Assaf\\AppData\\Local\\Temp\\ipykernel_5720\\3121627278.py:13: UserWarning: You have mixed positional and keyword arguments, some input may be discarded.\n",
      "  fig.legend(labels, handles =handles,loc='lower left',fontsize=\"15\" ,bbox_to_anchor=(0.8,0.1) ,ncol=1, bbox_transform=fig.transFigure)\n"
     ]
    },
    {
     "data": {
      "image/png": "[encoded data removed]",
      "text/plain": [
       "<Figure size 1000x1000 with 7 Axes>"
      ]
     },
     "metadata": {},
     "output_type": "display_data"
    }
   ],
   "source": [
    "history_dict['Twona'] = history\n",
    "p1 = ['Simple','Extracted','Complex','Semantic_tri','Semantic_quad3','Semantic_quad2','Twona']\n",
    "plt_name = ['Simple','Extracted','Complex','One to two semantic','One to three semantic','Two to two semantic','Twona']\n",
    "compar_plts(list(map(history_dict.get, p1)),['loss','val_loss'] ,plt_name )\n",
    "\n"
   ]
  },
  {
   "cell_type": "code",
   "execution_count": 30,
   "metadata": {},
   "outputs": [
    {
     "name": "stdout",
     "output_type": "stream",
     "text": [
      "Simple\n",
      "Loss : 0.3539268374443054\tValidation loss : 7.216665267944336\n",
      "Extracted\n",
      "Loss : 0.14185261726379395\tValidation loss : 4.017050266265869\n",
      "Complex\n",
      "Loss : 1.7868013381958008\tValidation loss : 27.719736099243164\n",
      "One to two semantic\n",
      "Loss : 0.696977972984314\tValidation loss : 10.737541198730469\n",
      "One to three semantic\n",
      "Loss : 0.31379789113998413\tValidation loss : 7.180593013763428\n",
      "Two to two semantic\n",
      "Loss : 0.697440505027771\tValidation loss : 8.67990493774414\n",
      "Twona\n",
      "Loss : 0.7135066986083984\tValidation loss : 0.7737202644348145\n"
     ]
    }
   ],
   "source": [
    "for res,nam in zip(history_dict,plt_name):\n",
    "    print(f'{nam}\\nLoss : {history_dict[res].history[\"loss\"][-1]}\\tValidation loss : {history_dict[res].history[\"val_loss\"][-1]}')"
   ]
  },
  {
   "cell_type": "code",
   "execution_count": 68,
   "metadata": {},
   "outputs": [
    {
     "name": "stderr",
     "output_type": "stream",
     "text": [
      "C:\\Users\\Assaf\\AppData\\Local\\Temp\\ipykernel_5720\\3121627278.py:13: UserWarning: You have mixed positional and keyword arguments, some input may be discarded.\n",
      "  fig.legend(labels, handles =handles,loc='lower left',fontsize=\"15\" ,bbox_to_anchor=(0.8,0.1) ,ncol=1, bbox_transform=fig.transFigure)\n"
     ]
    },
    {
     "data": {
      "image/png": "[encoded data removed]",
      "text/plain": [
       "<Figure size 1000x1000 with 7 Axes>"
      ]
     },
     "metadata": {},
     "output_type": "display_data"
    }
   ],
   "source": [
    "compar_plts(list(map(history_dict.get, p1)),['mae','val_mae'],plt_name )"
   ]
  },
  {
   "cell_type": "code",
   "execution_count": 32,
   "metadata": {},
   "outputs": [
    {
     "name": "stdout",
     "output_type": "stream",
     "text": [
      "Simple\n",
      "MAE : 0.44625282287597656\tValidation MAE : 2.1897547245025635\n",
      "Extracted\n",
      "MAE : 0.2897340655326843\tValidation MAE : 1.7231919765472412\n",
      "Complex\n",
      "MAE : 1.0591248273849487\tValidation MAE : 4.4075846672058105\n",
      "One to two semantic\n",
      "MAE : 0.6718341708183289\tValidation MAE : 2.4758260250091553\n",
      "One to three semantic\n",
      "MAE : 0.4424648582935333\tValidation MAE : 2.230282783508301\n",
      "Two to two semantic\n",
      "MAE : 0.6680233478546143\tValidation MAE : 2.2623298168182373\n",
      "Twona\n",
      "MAE : 0.5869753360748291\tValidation MAE : 0.8051550388336182\n"
     ]
    }
   ],
   "source": [
    "for res,nam in zip(history_dict,plt_name):\n",
    "    print(f'{nam}\\nMAE : {history_dict[res].history[\"mae\"][-1]}\\tValidation MAE : {history_dict[res].history[\"val_mae\"][-1]}')"
   ]
  },
  {
   "attachments": {},
   "cell_type": "markdown",
   "metadata": {},
   "source": [
    "## Model exploration"
   ]
  },
  {
   "attachments": {},
   "cell_type": "markdown",
   "metadata": {},
   "source": [
    "### Creating Integrated Gradients"
   ]
  },
  {
   "cell_type": "code",
   "execution_count": 33,
   "metadata": {},
   "outputs": [],
   "source": [
    "# Code snippet adapted from alibi library documentation: \n",
    "# https://docs.seldon.io/projects/alibi/en/stable/examples/integrated_gradients_imdb.html\n",
    "\n",
    "explanations = []\n",
    "\n",
    "X_test = onehot_padding(X_test,wrd_dict)\n",
    "# Predicting test data\n",
    "prediction = nn(X_test)\n",
    "# Selecting embedding layers \n",
    "embd_layers = nn.layers[13:26]\n",
    "# Looping through embedding layers calculating the attribution in regards to the test data \n",
    "for layer in embd_layers:\n",
    "    n_steps = 50\n",
    "    method = \"gausslegendre\"\n",
    "    internal_batch_size = 100\n",
    "    nb_samples = 10\n",
    "    ig  = IntegratedGradients(nn,\n",
    "                            layer=layer,\n",
    "                            n_steps=n_steps,    \n",
    "                            method=method,\n",
    "                            internal_batch_size=internal_batch_size)\n",
    "    predictions = nn(X_test).numpy().argmax(axis=1)\n",
    "    explanations.append(ig.explain(X_test,\n",
    "                            baselines=None,\n",
    "                            target=predictions,\n",
    "                            attribute_to_layer_inputs=False))\n"
   ]
  },
  {
   "cell_type": "code",
   "execution_count": 34,
   "metadata": {},
   "outputs": [],
   "source": [
    "## Creating inverse dictionary  \n",
    "invrs_dict = {\n",
    "    outer_key : {v:k  for k,v in in_dict.items()} \n",
    "    for outer_key,in_dict  in wrd_dict.items() \n",
    "    }\n"
   ]
  },
  {
   "cell_type": "code",
   "execution_count": 35,
   "metadata": {},
   "outputs": [],
   "source": [
    "## Summing up attributions from embedding layer\n",
    "attrs_sum = []\n",
    "for exp in explanations:\n",
    "    attrs_sum.append(exp.attributions[0].sum(axis=2))\n"
   ]
  },
  {
   "cell_type": "code",
   "execution_count": 36,
   "metadata": {},
   "outputs": [],
   "source": [
    "def  hlstr(string, color='white'):\n",
    "    return f\"<mark style=background-color:{color}>{string} </mark>\"\n",
    "\n",
    "\n",
    "def colorize(attrs, cmap='PiYG'):\n",
    "    #Compute hex colors based on the attributions for a single instance.\n",
    "    \n",
    "    cmap_bound = np.abs(attrs).max()\n",
    "    norm = mpl.colors.Normalize(vmin=-cmap_bound, vmax=cmap_bound)\n",
    "    cmap = mpl.cm.get_cmap(cmap)\n",
    "\n",
    "    # now compute hex values of colors\n",
    "    colors = list(map(lambda x: mpl.colors.rgb2hex(cmap(norm(x))), attrs))\n",
    "    return colors\n",
    "\n",
    "def decode_sentence(x, reverse_index):\n",
    "    return \" \".join([reverse_index.get(i, 'UNK') for i in x])\n"
   ]
  },
  {
   "cell_type": "code",
   "execution_count": 37,
   "metadata": {},
   "outputs": [
    {
     "name": "stdout",
     "output_type": "stream",
     "text": [
      "Sentence 0\n"
     ]
    },
    {
     "data": {
      "text/html": [
       "<span>Description:\t</span><mark style=background-color:#c72482>Build </mark><mark style=background-color:#f5c2e0>Configure </mark><mark style=background-color:#faedf3>Automate </mark><mark style=background-color:#8e0152>Workflows </mark><mark style=background-color:#eba3cd>Time </mark><mark style=background-color:#4b8f21>Coding </mark><mark style=background-color:#bde38d>Drag </mark><mark style=background-color:#e2f3ca>Drop </mark>"
      ],
      "text/plain": [
       "<IPython.core.display.HTML object>"
      ]
     },
     "metadata": {},
     "output_type": "display_data"
    },
    {
     "data": {
      "text/html": [
       "<span>Headline:\t</span><mark style=background-color:#d9f0bc>Packaging </mark><mark style=background-color:#f3f6ed>Audit </mark><mark style=background-color:#8e0152>Software </mark>"
      ],
      "text/plain": [
       "<IPython.core.display.HTML object>"
      ]
     },
     "metadata": {},
     "output_type": "display_data"
    },
    {
     "data": {
      "text/html": [
       "<span>Headline.1:\t</span><mark style=background-color:#bde38d>Build </mark><mark style=background-color:#93c959>Workflow </mark><mark style=background-color:#8e0152>Minutes </mark>"
      ],
      "text/plain": [
       "<IPython.core.display.HTML object>"
      ]
     },
     "metadata": {},
     "output_type": "display_data"
    },
    {
     "data": {
      "text/html": [
       "<span>Location:\t</span><mark style=background-color:#8e0152>USA </mark><mark style=background-color:#fad4e9>Canada </mark>"
      ],
      "text/plain": [
       "<IPython.core.display.HTML object>"
      ]
     },
     "metadata": {},
     "output_type": "display_data"
    },
    {
     "data": {
      "text/html": [
       "<span>Sitelink:\t</span><mark style=background-color:#34741c>Graphic </mark><mark style=background-color:#f8f3f6>Text </mark><mark style=background-color:#e7f5d2>Comparison </mark><mark style=background-color:#d4edb3>List </mark><mark style=background-color:#fbe6f1>Differences </mark><mark style=background-color:#8e0152>Side </mark><mark style=background-color:#a9d874>Side </mark><mark style=background-color:#397a1d>Comparison </mark><mark style=background-color:#f7cbe4>Start </mark>"
      ],
      "text/plain": [
       "<IPython.core.display.HTML object>"
      ]
     },
     "metadata": {},
     "output_type": "display_data"
    },
    {
     "data": {
      "text/html": [
       "<span>Url:\t</span><mark style=background-color:#8e0152>https://twonas.com/services/ams/why/?source=genesis </mark>"
      ],
      "text/plain": [
       "<IPython.core.display.HTML object>"
      ]
     },
     "metadata": {},
     "output_type": "display_data"
    },
    {
     "data": {
      "text/html": [
       "<span>Callout:\t</span><mark style=background-color:#8e0152>Easily </mark><mark style=background-color:#cc368b>Customizable </mark>"
      ],
      "text/plain": [
       "<IPython.core.display.HTML object>"
      ]
     },
     "metadata": {},
     "output_type": "display_data"
    },
    {
     "data": {
      "text/html": [
       "<span>Callout.1:\t</span><mark style=background-color:#589b28>Free </mark><mark style=background-color:#e2f3ca>Plans </mark><mark style=background-color:#276419>Available </mark>"
      ],
      "text/plain": [
       "<IPython.core.display.HTML object>"
      ]
     },
     "metadata": {},
     "output_type": "display_data"
    },
    {
     "data": {
      "text/html": [
       "<span>Keyword:\t</span><mark style=background-color:#900254>pack </mark><mark style=background-color:#cbe9a4>design </mark><mark style=background-color:#8e0152>management </mark>"
      ],
      "text/plain": [
       "<IPython.core.display.HTML object>"
      ]
     },
     "metadata": {},
     "output_type": "display_data"
    },
    {
     "data": {
      "text/html": [
       "<span>Keyword.1:\t</span><mark style=background-color:#f5c6e2>artwork </mark><mark style=background-color:#8e0152>management </mark><mark style=background-color:#f3bcdd>solutions </mark>"
      ],
      "text/plain": [
       "<IPython.core.display.HTML object>"
      ]
     },
     "metadata": {},
     "output_type": "display_data"
    },
    {
     "data": {
      "text/html": [
       "<span>Keyword.2:\t</span><mark style=background-color:#f9d1e8>product </mark><mark style=background-color:#276419>packaging </mark><mark style=background-color:#faebf3>design </mark><mark style=background-color:#8fc654>software </mark>"
      ],
      "text/plain": [
       "<IPython.core.display.HTML object>"
      ]
     },
     "metadata": {},
     "output_type": "display_data"
    },
    {
     "data": {
      "text/html": [
       "<span>Keyword.3:\t</span><mark style=background-color:#8e0152>ams </mark>"
      ],
      "text/plain": [
       "<IPython.core.display.HTML object>"
      ]
     },
     "metadata": {},
     "output_type": "display_data"
    },
    {
     "data": {
      "text/html": [
       "<span>Keyword.4:\t</span><mark style=background-color:#276419>Esko </mark>"
      ],
      "text/plain": [
       "<IPython.core.display.HTML object>"
      ]
     },
     "metadata": {},
     "output_type": "display_data"
    },
    {
     "name": "stdout",
     "output_type": "stream",
     "text": [
      "Sentence 1\n"
     ]
    },
    {
     "data": {
      "text/html": [
       "<span>Description:\t</span><mark style=background-color:#81bd44>Streamline </mark><mark style=background-color:#8e0152>Business </mark><mark style=background-color:#f8f5f6>Operations </mark><mark style=background-color:#fcdbed>Improve </mark><mark style=background-color:#a3d36c>Efficiency </mark><mark style=background-color:#aeda7a>Save </mark><mark style=background-color:#b9e187>Time </mark><mark style=background-color:#e8f5d5>Cost </mark>"
      ],
      "text/plain": [
       "<IPython.core.display.HTML object>"
      ]
     },
     "metadata": {},
     "output_type": "display_data"
    },
    {
     "data": {
      "text/html": [
       "<span>Headline:\t</span><mark style=background-color:#8e0152>Code </mark><mark style=background-color:#ca2f88>Workflow </mark>"
      ],
      "text/plain": [
       "<IPython.core.display.HTML object>"
      ]
     },
     "metadata": {},
     "output_type": "display_data"
    },
    {
     "data": {
      "text/html": [
       "<span>Headline.1:\t</span><mark style=background-color:#fce5f1>QA </mark><mark style=background-color:#8e0152>Design </mark><mark style=background-color:#b7e085>Workflow </mark>"
      ],
      "text/plain": [
       "<IPython.core.display.HTML object>"
      ]
     },
     "metadata": {},
     "output_type": "display_data"
    },
    {
     "data": {
      "text/html": [
       "<span>Location:\t</span><mark style=background-color:#8e0152>USA </mark><mark style=background-color:#fad4e9>Canada </mark>"
      ],
      "text/plain": [
       "<IPython.core.display.HTML object>"
      ]
     },
     "metadata": {},
     "output_type": "display_data"
    },
    {
     "data": {
      "text/html": [
       "<span>Sitelink:\t</span><mark style=background-color:#34741c>Graphic </mark><mark style=background-color:#f8f3f6>Text </mark><mark style=background-color:#e7f5d2>Comparison </mark><mark style=background-color:#d4edb3>List </mark><mark style=background-color:#fbe6f1>Differences </mark><mark style=background-color:#8e0152>Side </mark><mark style=background-color:#a9d874>Side </mark><mark style=background-color:#397a1d>Comparison </mark><mark style=background-color:#f7cbe4>Start </mark>"
      ],
      "text/plain": [
       "<IPython.core.display.HTML object>"
      ]
     },
     "metadata": {},
     "output_type": "display_data"
    },
    {
     "data": {
      "text/html": [
       "<span>Url:\t</span><mark style=background-color:#276419>https://twonas.com/services/ams/contact/?source=genesis </mark>"
      ],
      "text/plain": [
       "<IPython.core.display.HTML object>"
      ]
     },
     "metadata": {},
     "output_type": "display_data"
    },
    {
     "data": {
      "text/html": [
       "<span>Callout:\t</span><mark style=background-color:#276419>Collaborate </mark><mark style=background-color:#fad6ea>Scale </mark>"
      ],
      "text/plain": [
       "<IPython.core.display.HTML object>"
      ]
     },
     "metadata": {},
     "output_type": "display_data"
    },
    {
     "data": {
      "text/html": [
       "<span>Callout.1:\t</span><mark style=background-color:#7bb93e>Connect </mark><mark style=background-color:#8e0152>Device </mark>"
      ],
      "text/plain": [
       "<IPython.core.display.HTML object>"
      ]
     },
     "metadata": {},
     "output_type": "display_data"
    },
    {
     "data": {
      "text/html": [
       "<span>Keyword:\t</span><mark style=background-color:#f3bdde>artwork </mark><mark style=background-color:#f3f6ed>workflow </mark><mark style=background-color:#8e0152>management </mark><mark style=background-color:#eda8d1>software </mark>"
      ],
      "text/plain": [
       "<IPython.core.display.HTML object>"
      ]
     },
     "metadata": {},
     "output_type": "display_data"
    },
    {
     "data": {
      "text/html": [
       "<span>Keyword.1:\t</span><mark style=background-color:#faeaf2>blue </mark><mark style=background-color:#8e0152>software </mark>"
      ],
      "text/plain": [
       "<IPython.core.display.HTML object>"
      ]
     },
     "metadata": {},
     "output_type": "display_data"
    },
    {
     "data": {
      "text/html": [
       "<span>Keyword.2:\t</span><mark style=background-color:#f9d1e8>product </mark><mark style=background-color:#276419>packaging </mark><mark style=background-color:#faebf3>design </mark><mark style=background-color:#8fc654>software </mark>"
      ],
      "text/plain": [
       "<IPython.core.display.HTML object>"
      ]
     },
     "metadata": {},
     "output_type": "display_data"
    },
    {
     "data": {
      "text/html": [
       "<span>Keyword.3:\t</span><mark style=background-color:#8e0152>ams </mark>"
      ],
      "text/plain": [
       "<IPython.core.display.HTML object>"
      ]
     },
     "metadata": {},
     "output_type": "display_data"
    },
    {
     "data": {
      "text/html": [
       "<span>Keyword.4:\t</span><mark style=background-color:#f9f0f5>project </mark><mark style=background-color:#8e0152>management </mark><mark style=background-color:#c6e79c>system </mark>"
      ],
      "text/plain": [
       "<IPython.core.display.HTML object>"
      ]
     },
     "metadata": {},
     "output_type": "display_data"
    },
    {
     "name": "stdout",
     "output_type": "stream",
     "text": [
      "Sentence 2\n"
     ]
    },
    {
     "data": {
      "text/html": [
       "<span>Description:\t</span><mark style=background-color:#c72482>Build </mark><mark style=background-color:#f5c2e0>Configure </mark><mark style=background-color:#faedf3>Automate </mark><mark style=background-color:#8e0152>Workflows </mark><mark style=background-color:#eba3cd>Time </mark><mark style=background-color:#4b8f21>Coding </mark><mark style=background-color:#bde38d>Drag </mark><mark style=background-color:#e2f3ca>Drop </mark>"
      ],
      "text/plain": [
       "<IPython.core.display.HTML object>"
      ]
     },
     "metadata": {},
     "output_type": "display_data"
    },
    {
     "data": {
      "text/html": [
       "<span>Headline:\t</span><mark style=background-color:#529624>Art </mark><mark style=background-color:#276419>Management </mark><mark style=background-color:#d0ecad>Built </mark>"
      ],
      "text/plain": [
       "<IPython.core.display.HTML object>"
      ]
     },
     "metadata": {},
     "output_type": "display_data"
    },
    {
     "data": {
      "text/html": [
       "<span>Headline.1:\t</span><mark style=background-color:#276419>Universal </mark><mark style=background-color:#eeabd2>Packaging </mark><mark style=background-color:#ca2f88>Management </mark>"
      ],
      "text/plain": [
       "<IPython.core.display.HTML object>"
      ]
     },
     "metadata": {},
     "output_type": "display_data"
    },
    {
     "data": {
      "text/html": [
       "<span>Location:\t</span><mark style=background-color:#8e0152>USA </mark><mark style=background-color:#fad4e9>Canada </mark>"
      ],
      "text/plain": [
       "<IPython.core.display.HTML object>"
      ]
     },
     "metadata": {},
     "output_type": "display_data"
    },
    {
     "data": {
      "text/html": [
       "<span>Sitelink:\t</span><mark style=background-color:#34741c>Graphic </mark><mark style=background-color:#f8f3f6>Text </mark><mark style=background-color:#e7f5d2>Comparison </mark><mark style=background-color:#d4edb3>List </mark><mark style=background-color:#fbe6f1>Differences </mark><mark style=background-color:#8e0152>Side </mark><mark style=background-color:#a9d874>Side </mark><mark style=background-color:#397a1d>Comparison </mark><mark style=background-color:#f7cbe4>Start </mark>"
      ],
      "text/plain": [
       "<IPython.core.display.HTML object>"
      ]
     },
     "metadata": {},
     "output_type": "display_data"
    },
    {
     "data": {
      "text/html": [
       "<span>Url:\t</span><mark style=background-color:#276419>https://twonas.com/services/ams/contact/?source=genesis </mark>"
      ],
      "text/plain": [
       "<IPython.core.display.HTML object>"
      ]
     },
     "metadata": {},
     "output_type": "display_data"
    },
    {
     "data": {
      "text/html": [
       "<span>Callout:\t</span><mark style=background-color:#b51370>One </mark><mark style=background-color:#276419>Tool </mark>"
      ],
      "text/plain": [
       "<IPython.core.display.HTML object>"
      ]
     },
     "metadata": {},
     "output_type": "display_data"
    },
    {
     "data": {
      "text/html": [
       "<span>Callout.1:\t</span><mark style=background-color:#589b28>Free </mark><mark style=background-color:#e2f3ca>Plans </mark><mark style=background-color:#276419>Available </mark>"
      ],
      "text/plain": [
       "<IPython.core.display.HTML object>"
      ]
     },
     "metadata": {},
     "output_type": "display_data"
    },
    {
     "data": {
      "text/html": [
       "<span>Keyword:\t</span><mark style=background-color:#f3bdde>artwork </mark><mark style=background-color:#f3f6ed>workflow </mark><mark style=background-color:#8e0152>management </mark><mark style=background-color:#eda8d1>software </mark>"
      ],
      "text/plain": [
       "<IPython.core.display.HTML object>"
      ]
     },
     "metadata": {},
     "output_type": "display_data"
    },
    {
     "data": {
      "text/html": [
       "<span>Keyword.1:\t</span><mark style=background-color:#a40b63>workflow </mark><mark style=background-color:#8e0152>management </mark><mark style=background-color:#95cb5c>software </mark>"
      ],
      "text/plain": [
       "<IPython.core.display.HTML object>"
      ]
     },
     "metadata": {},
     "output_type": "display_data"
    },
    {
     "data": {
      "text/html": [
       "<span>Keyword.2:\t</span><mark style=background-color:#f9d1e8>product </mark><mark style=background-color:#276419>packaging </mark><mark style=background-color:#faebf3>design </mark><mark style=background-color:#8fc654>software </mark>"
      ],
      "text/plain": [
       "<IPython.core.display.HTML object>"
      ]
     },
     "metadata": {},
     "output_type": "display_data"
    },
    {
     "data": {
      "text/html": [
       "<span>Keyword.3:\t</span><mark style=background-color:#8e0152>ams </mark>"
      ],
      "text/plain": [
       "<IPython.core.display.HTML object>"
      ]
     },
     "metadata": {},
     "output_type": "display_data"
    },
    {
     "data": {
      "text/html": [
       "<span>Keyword.4:\t</span><mark style=background-color:#276419>Esko </mark>"
      ],
      "text/plain": [
       "<IPython.core.display.HTML object>"
      ]
     },
     "metadata": {},
     "output_type": "display_data"
    },
    {
     "name": "stdout",
     "output_type": "stream",
     "text": [
      "Sentence 3\n"
     ]
    },
    {
     "data": {
      "text/html": [
       "<span>Description:\t</span><mark style=background-color:#81bd44>Streamline </mark><mark style=background-color:#8e0152>Business </mark><mark style=background-color:#f8f5f6>Operations </mark><mark style=background-color:#fcdbed>Improve </mark><mark style=background-color:#a3d36c>Efficiency </mark><mark style=background-color:#aeda7a>Save </mark><mark style=background-color:#b9e187>Time </mark><mark style=background-color:#e8f5d5>Cost </mark>"
      ],
      "text/plain": [
       "<IPython.core.display.HTML object>"
      ]
     },
     "metadata": {},
     "output_type": "display_data"
    },
    {
     "data": {
      "text/html": [
       "<span>Headline:\t</span><mark style=background-color:#8e0152>Code </mark><mark style=background-color:#ca2f88>Workflow </mark>"
      ],
      "text/plain": [
       "<IPython.core.display.HTML object>"
      ]
     },
     "metadata": {},
     "output_type": "display_data"
    },
    {
     "data": {
      "text/html": [
       "<span>Headline.1:\t</span><mark style=background-color:#276419>Universal </mark><mark style=background-color:#eeabd2>Packaging </mark><mark style=background-color:#ca2f88>Management </mark>"
      ],
      "text/plain": [
       "<IPython.core.display.HTML object>"
      ]
     },
     "metadata": {},
     "output_type": "display_data"
    },
    {
     "data": {
      "text/html": [
       "<span>Location:\t</span><mark style=background-color:#8e0152>USA </mark><mark style=background-color:#fad4e9>Canada </mark>"
      ],
      "text/plain": [
       "<IPython.core.display.HTML object>"
      ]
     },
     "metadata": {},
     "output_type": "display_data"
    },
    {
     "data": {
      "text/html": [
       "<span>Sitelink:\t</span><mark style=background-color:#fcdbed>Pricing </mark><mark style=background-color:#d14895>Plans </mark><mark style=background-color:#f8f5f6>Compare </mark><mark style=background-color:#edf6df>Plans </mark><mark style=background-color:#e9f5d6>Side </mark><mark style=background-color:#fce4f0>Side </mark><mark style=background-color:#8e0152>Find </mark><mark style=background-color:#bde38d>Right </mark><mark style=background-color:#eda8d1>One </mark><mark style=background-color:#faebf3>Get </mark><mark style=background-color:#e1f3c7>Started </mark>"
      ],
      "text/plain": [
       "<IPython.core.display.HTML object>"
      ]
     },
     "metadata": {},
     "output_type": "display_data"
    },
    {
     "data": {
      "text/html": [
       "<span>Url:\t</span><mark style=background-color:#276419>https://twonas.com/services/ams/pricing/?source=genesis </mark>"
      ],
      "text/plain": [
       "<IPython.core.display.HTML object>"
      ]
     },
     "metadata": {},
     "output_type": "display_data"
    },
    {
     "data": {
      "text/html": [
       "<span>Callout:\t</span><mark style=background-color:#276419>Collaborate </mark><mark style=background-color:#fad6ea>Scale </mark>"
      ],
      "text/plain": [
       "<IPython.core.display.HTML object>"
      ]
     },
     "metadata": {},
     "output_type": "display_data"
    },
    {
     "data": {
      "text/html": [
       "<span>Callout.1:\t</span><mark style=background-color:#7bb93e>Connect </mark><mark style=background-color:#8e0152>Device </mark>"
      ],
      "text/plain": [
       "<IPython.core.display.HTML object>"
      ]
     },
     "metadata": {},
     "output_type": "display_data"
    },
    {
     "data": {
      "text/html": [
       "<span>Keyword:\t</span><mark style=background-color:#dff2c4>easy </mark><mark style=background-color:#8e0152>project </mark><mark style=background-color:#e89ac6>management </mark>"
      ],
      "text/plain": [
       "<IPython.core.display.HTML object>"
      ]
     },
     "metadata": {},
     "output_type": "display_data"
    },
    {
     "data": {
      "text/html": [
       "<span>Keyword.1:\t</span><mark style=background-color:#faeaf2>blue </mark><mark style=background-color:#8e0152>software </mark>"
      ],
      "text/plain": [
       "<IPython.core.display.HTML object>"
      ]
     },
     "metadata": {},
     "output_type": "display_data"
    },
    {
     "data": {
      "text/html": [
       "<span>Keyword.2:\t</span><mark style=background-color:#ce3d8f>digital </mark><mark style=background-color:#e795c3>asset </mark><mark style=background-color:#8e0152>software </mark>"
      ],
      "text/plain": [
       "<IPython.core.display.HTML object>"
      ]
     },
     "metadata": {},
     "output_type": "display_data"
    },
    {
     "data": {
      "text/html": [
       "<span>Keyword.3:\t</span><mark style=background-color:#8e0152>ams </mark>"
      ],
      "text/plain": [
       "<IPython.core.display.HTML object>"
      ]
     },
     "metadata": {},
     "output_type": "display_data"
    },
    {
     "data": {
      "text/html": [
       "<span>Keyword.4:\t</span><mark style=background-color:#f9f0f5>project </mark><mark style=background-color:#8e0152>management </mark><mark style=background-color:#c6e79c>system </mark>"
      ],
      "text/plain": [
       "<IPython.core.display.HTML object>"
      ]
     },
     "metadata": {},
     "output_type": "display_data"
    },
    {
     "name": "stdout",
     "output_type": "stream",
     "text": [
      "Sentence 4\n"
     ]
    },
    {
     "data": {
      "text/html": [
       "<span>Description:\t</span><mark style=background-color:#81bd44>Streamline </mark><mark style=background-color:#8e0152>Business </mark><mark style=background-color:#f8f5f6>Operations </mark><mark style=background-color:#fcdbed>Improve </mark><mark style=background-color:#a3d36c>Efficiency </mark><mark style=background-color:#aeda7a>Save </mark><mark style=background-color:#b9e187>Time </mark><mark style=background-color:#e8f5d5>Cost </mark>"
      ],
      "text/plain": [
       "<IPython.core.display.HTML object>"
      ]
     },
     "metadata": {},
     "output_type": "display_data"
    },
    {
     "data": {
      "text/html": [
       "<span>Headline:\t</span><mark style=background-color:#8e0152>Code </mark><mark style=background-color:#ca2f88>Workflow </mark>"
      ],
      "text/plain": [
       "<IPython.core.display.HTML object>"
      ]
     },
     "metadata": {},
     "output_type": "display_data"
    },
    {
     "data": {
      "text/html": [
       "<span>Headline.1:\t</span><mark style=background-color:#276419>Universal </mark><mark style=background-color:#eeabd2>Packaging </mark><mark style=background-color:#ca2f88>Management </mark>"
      ],
      "text/plain": [
       "<IPython.core.display.HTML object>"
      ]
     },
     "metadata": {},
     "output_type": "display_data"
    },
    {
     "data": {
      "text/html": [
       "<span>Location:\t</span><mark style=background-color:#8e0152>USA </mark><mark style=background-color:#fad4e9>Canada </mark>"
      ],
      "text/plain": [
       "<IPython.core.display.HTML object>"
      ]
     },
     "metadata": {},
     "output_type": "display_data"
    },
    {
     "data": {
      "text/html": [
       "<span>Sitelink:\t</span><mark style=background-color:#69aa33>Version </mark><mark style=background-color:#276419>Control </mark><mark style=background-color:#d6eeb6>System </mark><mark style=background-color:#fce4f0>Everything </mark><mark style=background-color:#f5c4e1>Need </mark><mark style=background-color:#ca2f88>Smart </mark><mark style=background-color:#8e0152>Artwork </mark><mark style=background-color:#bbe28a>Management </mark><mark style=background-color:#93c959>See </mark>"
      ],
      "text/plain": [
       "<IPython.core.display.HTML object>"
      ]
     },
     "metadata": {},
     "output_type": "display_data"
    },
    {
     "data": {
      "text/html": [
       "<span>Url:\t</span><mark style=background-color:#276419>https://twonas.com/services/ams/pricing/?source=genesis </mark>"
      ],
      "text/plain": [
       "<IPython.core.display.HTML object>"
      ]
     },
     "metadata": {},
     "output_type": "display_data"
    },
    {
     "data": {
      "text/html": [
       "<span>Callout:\t</span><mark style=background-color:#276419>Collaborate </mark><mark style=background-color:#fad6ea>Scale </mark>"
      ],
      "text/plain": [
       "<IPython.core.display.HTML object>"
      ]
     },
     "metadata": {},
     "output_type": "display_data"
    },
    {
     "data": {
      "text/html": [
       "<span>Callout.1:\t</span><mark style=background-color:#7bb93e>Connect </mark><mark style=background-color:#8e0152>Device </mark>"
      ],
      "text/plain": [
       "<IPython.core.display.HTML object>"
      ]
     },
     "metadata": {},
     "output_type": "display_data"
    },
    {
     "data": {
      "text/html": [
       "<span>Keyword:\t</span><mark style=background-color:#de77ae>best </mark><mark style=background-color:#8e0152>project </mark><mark style=background-color:#f6c7e3>management </mark>"
      ],
      "text/plain": [
       "<IPython.core.display.HTML object>"
      ]
     },
     "metadata": {},
     "output_type": "display_data"
    },
    {
     "data": {
      "text/html": [
       "<span>Keyword.1:\t</span><mark style=background-color:#faeaf2>blue </mark><mark style=background-color:#8e0152>software </mark>"
      ],
      "text/plain": [
       "<IPython.core.display.HTML object>"
      ]
     },
     "metadata": {},
     "output_type": "display_data"
    },
    {
     "data": {
      "text/html": [
       "<span>Keyword.2:\t</span><mark style=background-color:#ce3d8f>digital </mark><mark style=background-color:#e795c3>asset </mark><mark style=background-color:#8e0152>software </mark>"
      ],
      "text/plain": [
       "<IPython.core.display.HTML object>"
      ]
     },
     "metadata": {},
     "output_type": "display_data"
    },
    {
     "data": {
      "text/html": [
       "<span>Keyword.3:\t</span><mark style=background-color:#8e0152>ams </mark>"
      ],
      "text/plain": [
       "<IPython.core.display.HTML object>"
      ]
     },
     "metadata": {},
     "output_type": "display_data"
    },
    {
     "data": {
      "text/html": [
       "<span>Keyword.4:\t</span><mark style=background-color:#f9f0f5>project </mark><mark style=background-color:#8e0152>management </mark><mark style=background-color:#c6e79c>system </mark>"
      ],
      "text/plain": [
       "<IPython.core.display.HTML object>"
      ]
     },
     "metadata": {},
     "output_type": "display_data"
    },
    {
     "name": "stdout",
     "output_type": "stream",
     "text": [
      "Sentence 5\n"
     ]
    },
    {
     "data": {
      "text/html": [
       "<span>Description:\t</span><mark style=background-color:#81bd44>Streamline </mark><mark style=background-color:#8e0152>Business </mark><mark style=background-color:#f8f5f6>Operations </mark><mark style=background-color:#fcdbed>Improve </mark><mark style=background-color:#a3d36c>Efficiency </mark><mark style=background-color:#aeda7a>Save </mark><mark style=background-color:#b9e187>Time </mark><mark style=background-color:#e8f5d5>Cost </mark>"
      ],
      "text/plain": [
       "<IPython.core.display.HTML object>"
      ]
     },
     "metadata": {},
     "output_type": "display_data"
    },
    {
     "data": {
      "text/html": [
       "<span>Headline:\t</span><mark style=background-color:#8e0152>Code </mark><mark style=background-color:#ca2f88>Workflow </mark>"
      ],
      "text/plain": [
       "<IPython.core.display.HTML object>"
      ]
     },
     "metadata": {},
     "output_type": "display_data"
    },
    {
     "data": {
      "text/html": [
       "<span>Headline.1:\t</span><mark style=background-color:#276419>Universal </mark><mark style=background-color:#eeabd2>Packaging </mark><mark style=background-color:#ca2f88>Management </mark>"
      ],
      "text/plain": [
       "<IPython.core.display.HTML object>"
      ]
     },
     "metadata": {},
     "output_type": "display_data"
    },
    {
     "data": {
      "text/html": [
       "<span>Location:\t</span><mark style=background-color:#8e0152>USA </mark><mark style=background-color:#fad4e9>Canada </mark>"
      ],
      "text/plain": [
       "<IPython.core.display.HTML object>"
      ]
     },
     "metadata": {},
     "output_type": "display_data"
    },
    {
     "data": {
      "text/html": [
       "<span>Sitelink:\t</span><mark style=background-color:#69aa33>Version </mark><mark style=background-color:#276419>Control </mark><mark style=background-color:#d6eeb6>System </mark><mark style=background-color:#fce4f0>Everything </mark><mark style=background-color:#f5c4e1>Need </mark><mark style=background-color:#ca2f88>Smart </mark><mark style=background-color:#8e0152>Artwork </mark><mark style=background-color:#bbe28a>Management </mark><mark style=background-color:#93c959>See </mark>"
      ],
      "text/plain": [
       "<IPython.core.display.HTML object>"
      ]
     },
     "metadata": {},
     "output_type": "display_data"
    },
    {
     "data": {
      "text/html": [
       "<span>Url:\t</span><mark style=background-color:#276419>https://twonas.com/services/ams/pricing/?source=genesis </mark>"
      ],
      "text/plain": [
       "<IPython.core.display.HTML object>"
      ]
     },
     "metadata": {},
     "output_type": "display_data"
    },
    {
     "data": {
      "text/html": [
       "<span>Callout:\t</span><mark style=background-color:#276419>Collaborate </mark><mark style=background-color:#fad6ea>Scale </mark>"
      ],
      "text/plain": [
       "<IPython.core.display.HTML object>"
      ]
     },
     "metadata": {},
     "output_type": "display_data"
    },
    {
     "data": {
      "text/html": [
       "<span>Callout.1:\t</span><mark style=background-color:#7bb93e>Connect </mark><mark style=background-color:#8e0152>Device </mark>"
      ],
      "text/plain": [
       "<IPython.core.display.HTML object>"
      ]
     },
     "metadata": {},
     "output_type": "display_data"
    },
    {
     "data": {
      "text/html": [
       "<span>Keyword:\t</span><mark style=background-color:#de77ae>best </mark><mark style=background-color:#8e0152>project </mark><mark style=background-color:#f6c7e3>management </mark>"
      ],
      "text/plain": [
       "<IPython.core.display.HTML object>"
      ]
     },
     "metadata": {},
     "output_type": "display_data"
    },
    {
     "data": {
      "text/html": [
       "<span>Keyword.1:\t</span><mark style=background-color:#faeaf2>blue </mark><mark style=background-color:#8e0152>software </mark>"
      ],
      "text/plain": [
       "<IPython.core.display.HTML object>"
      ]
     },
     "metadata": {},
     "output_type": "display_data"
    },
    {
     "data": {
      "text/html": [
       "<span>Keyword.2:\t</span><mark style=background-color:#ce3d8f>digital </mark><mark style=background-color:#e795c3>asset </mark><mark style=background-color:#8e0152>software </mark>"
      ],
      "text/plain": [
       "<IPython.core.display.HTML object>"
      ]
     },
     "metadata": {},
     "output_type": "display_data"
    },
    {
     "data": {
      "text/html": [
       "<span>Keyword.3:\t</span><mark style=background-color:#8e0152>ams </mark>"
      ],
      "text/plain": [
       "<IPython.core.display.HTML object>"
      ]
     },
     "metadata": {},
     "output_type": "display_data"
    },
    {
     "data": {
      "text/html": [
       "<span>Keyword.4:\t</span><mark style=background-color:#f9f0f5>project </mark><mark style=background-color:#8e0152>management </mark><mark style=background-color:#c6e79c>system </mark>"
      ],
      "text/plain": [
       "<IPython.core.display.HTML object>"
      ]
     },
     "metadata": {},
     "output_type": "display_data"
    }
   ],
   "source": [
    "### Color each feature of sentence according to its attribution  \n",
    "for x in range(0,np.array(X_test).shape[1]):\n",
    "    print(f'Sentence {x}')\n",
    "    for data_clmn, dict_clmn in zip(range(0,len(X_test)),invrs_dict):\n",
    "        x_i = np.trim_zeros(X_test[data_clmn][x])\n",
    "        attrs_i = np.trim_zeros(attrs_sum[data_clmn][x])\n",
    "        words = decode_sentence(x_i, invrs_dict[dict_clmn]).split()\n",
    "        colors = colorize(attrs_i)\n",
    "        display(HTML(f'<span>{dict_clmn}:\\t</span>' +(\"\".join(list(map(hlstr,words, colors))))))\n"
   ]
  },
  {
   "attachments": {},
   "cell_type": "markdown",
   "metadata": {},
   "source": [
    "### Squared root mean error"
   ]
  },
  {
   "cell_type": "code",
   "execution_count": 38,
   "metadata": {},
   "outputs": [
    {
     "name": "stdout",
     "output_type": "stream",
     "text": [
      "1/1 [==============================] - 1s 512ms/step\n"
     ]
    },
    {
     "data": {
      "text/plain": [
       "3.7404273604889524"
      ]
     },
     "execution_count": 38,
     "metadata": {},
     "output_type": "execute_result"
    }
   ],
   "source": [
    "np.sqrt(np.mean((nn.predict(X_test).flat - y_test)**2))"
   ]
  },
  {
   "attachments": {},
   "cell_type": "markdown",
   "metadata": {},
   "source": [
    "### Unique words in Dict"
   ]
  },
  {
   "cell_type": "code",
   "execution_count": 39,
   "metadata": {},
   "outputs": [
    {
     "name": "stdout",
     "output_type": "stream",
     "text": [
      "There are 215 unique words which are \n",
      "[' Austria' ' Belgium' ' Canada' ' Finland' ' Ireland' ' Luxembourg'\n",
      " ' New Zealand' ' Sweden' ' Switzerland' 'AMS' 'Anywhere' 'Archiving'\n",
      " 'Art' 'Artwork' 'Asana' 'Assurance' 'Audit' 'Australia' 'Automate'\n",
      " 'Automatic' 'Automations' 'Available' 'Build' 'Built' 'Business' 'Change'\n",
      " 'Cloud' 'Code' 'Coding' 'Collaborate' 'Compare' 'Comparison' 'Configure'\n",
      " 'Connect' 'Control' 'Cost' 'Custom' 'Customizable' 'Dashboard' 'Design'\n",
      " 'Device' 'Differences' 'Docs' 'Download' 'Drag' 'Drop' 'Easily' 'Easy'\n",
      " 'Efficiency' 'Efficient' 'End' 'Esko' 'Everything' 'Faster' 'Features'\n",
      " 'Find' 'Font' 'Food' 'France' 'Free' 'Germany' 'Get' 'Global' 'Google'\n",
      " 'Graphic' 'Improve' 'Inclusive' 'Integrate' 'Integrations' 'List' 'Love'\n",
      " 'Made' 'Make' 'Manage' 'Management' 'Map' 'Minutes' 'Necessary' 'Need'\n",
      " 'Norway' 'One' 'Operations' 'Outlook' 'Overview' 'PDF' 'PNG' 'Packaging'\n",
      " 'Packing' 'Perfect' 'Pharma' 'Pipeline' 'Plan' 'Plans' 'Platform' 'Pre'\n",
      " 'Pricing' 'Productive' 'Project' 'Proof' 'QA' 'Quality' 'Quick' 'Ready'\n",
      " 'Retail' 'Revision' 'Right' 'Save' 'Scale' 'See' 'Set' 'Side' 'Sizes'\n",
      " 'Slack' 'Smart' 'Software' 'Solution' 'Start' 'Started' 'Starts'\n",
      " 'Streamline' 'Success' 'System' 'Tasks' 'Teams' 'Teamwork' 'Templates'\n",
      " 'Text' 'Things' 'Time' 'Tool' 'Track' 'Trail' 'Trello' 'Trial' 'Twona'\n",
      " 'USA' 'United Kingdom' 'Universal' 'Use' 'Using' 'Version' 'Vision' 'Way'\n",
      " 'Word' 'Work' 'Workflow' 'Workflows' 'Worklow' 'Zoom' 'accurately' 'ams'\n",
      " 'approval' 'artwork' 'artworks' 'asset' 'audit' 'automation' 'available'\n",
      " 'best' 'blue' 'built' 'coding' 'comparison' 'control' 'design'\n",
      " 'detection' 'digital' 'document' 'easier' 'easy' 'etc' 'faster' 'helps'\n",
      " 'https://twonas.com/services/ams/?source=genesis'\n",
      " 'https://twonas.com/services/ams/contact/?source=genesis'\n",
      " 'https://twonas.com/services/ams/features/?source=genesis'\n",
      " 'https://twonas.com/services/ams/pricing/?source=genesis'\n",
      " 'https://twonas.com/services/ams/why/?source=genesis' 'language' 'launch'\n",
      " 'manage' 'management' 'market' 'multi' 'multimedia' 'necessary' 'never'\n",
      " 'online' 'pack' 'packaging' 'part' 'plans' 'pm' 'pre' 'process' 'product'\n",
      " 'products' 'project' 'quickly' 'right' 'running' 'side' 'software'\n",
      " 'solution' 'solutions' 'started' 'support' 'system' 'timeline' 'tool'\n",
      " 'tools' 'version' 'visual' 'workflow' 'workflows']\n"
     ]
    }
   ],
   "source": [
    "uniq_wrd = np.unique(sum([[x for x,r in v.items()]for k,v in wrd_dict.items()],[]))\n",
    "print(f'There are {len(uniq_wrd)} unique words which are \\n{uniq_wrd}')"
   ]
  },
  {
   "attachments": {},
   "cell_type": "markdown",
   "metadata": {},
   "source": [
    "### Embedding weight analysis"
   ]
  },
  {
   "cell_type": "code",
   "execution_count": 40,
   "metadata": {},
   "outputs": [],
   "source": [
    "category_map = {\n",
    "    list(wrd_dict.keys()).index(outer_key) : list(in_dict.keys())\n",
    "    for outer_key,in_dict  in wrd_dict.items() \n",
    "    }"
   ]
  },
  {
   "cell_type": "code",
   "execution_count": 41,
   "metadata": {},
   "outputs": [],
   "source": [
    "embd_layers_weight = [emb.get_weights()[0] for emb in embd_layers ]\n",
    "label_emb = list(df.columns[:-1])\n",
    "embedding_magnitudes = [(np.sum(np.abs(emb).sum(axis=1) ) / emb.shape[0] /emb.shape[1])  for emb in embd_layers_weight]\n",
    "\n"
   ]
  },
  {
   "cell_type": "code",
   "execution_count": 73,
   "metadata": {},
   "outputs": [
    {
     "data": {
      "image/png": "[encoded data removed]",
      "text/plain": [
       "<Figure size 640x480 with 1 Axes>"
      ]
     },
     "metadata": {},
     "output_type": "display_data"
    }
   ],
   "source": [
    "plt.yticks(range(0,len(embedding_magnitudes)) ,label_emb,fontsize = 12)\n",
    "plt.barh(np.arange(0,len(embedding_magnitudes)),embedding_magnitudes)\n",
    "plt.ylabel('Feature',fontsize = 13)\n",
    "plt.xticks(fontsize = 13)\n",
    "plt.xlabel('Magnitude',fontsize = 13)\n",
    "plt.title('Average Magnitude of Embedding Weights layer',fontsize = 14)\n",
    "plt.show()\n"
   ]
  }
 ],
 "metadata": {
  "kernelspec": {
   "display_name": "Python 3",
   "language": "python",
   "name": "python3"
  },
  "language_info": {
   "codemirror_mode": {
    "name": "ipython",
    "version": 3
   },
   "file_extension": ".py",
   "mimetype": "text/x-python",
   "name": "python",
   "nbconvert_exporter": "python",
   "pygments_lexer": "ipython3",
   "version": "3.10.11"
  },
  "orig_nbformat": 4,
  "vscode": {
   "interpreter": {
    "hash": "81794d4967e6c3204c66dcd87b604927b115b27c00565d3d43f05ba2f3a2cb0d"
   }
  }
 },
 "nbformat": 4,
 "nbformat_minor": 2
}
